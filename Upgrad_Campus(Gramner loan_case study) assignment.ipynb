{
 "cells": [
  {
   "cell_type": "markdown",
   "id": "7ba21143",
   "metadata": {},
   "source": [
    "## Importing required librarires"
   ]
  },
  {
   "cell_type": "code",
   "execution_count": 1,
   "id": "5730d291",
   "metadata": {},
   "outputs": [],
   "source": [
    "import numpy as np\n",
    "import seaborn as sns\n",
    "import matplotlib.pyplot as plt\n",
    "%matplotlib inline\n",
    "import pandas as pd"
   ]
  },
  {
   "cell_type": "code",
   "execution_count": 2,
   "id": "b11429c2",
   "metadata": {},
   "outputs": [
    {
     "name": "stderr",
     "output_type": "stream",
     "text": [
      "C:\\Users\\Mihir\\AppData\\Local\\Temp\\ipykernel_17020\\1446152367.py:1: DtypeWarning: Columns (47) have mixed types. Specify dtype option on import or set low_memory=False.\n",
      "  loan = pd.read_csv(\"loan.csv\")\n"
     ]
    }
   ],
   "source": [
    "loan = pd.read_csv(\"loan.csv\")\n"
   ]
  },
  {
   "cell_type": "code",
   "execution_count": 3,
   "id": "809b4301",
   "metadata": {},
   "outputs": [
    {
     "data": {
      "text/html": [
       "<div>\n",
       "<style scoped>\n",
       "    .dataframe tbody tr th:only-of-type {\n",
       "        vertical-align: middle;\n",
       "    }\n",
       "\n",
       "    .dataframe tbody tr th {\n",
       "        vertical-align: top;\n",
       "    }\n",
       "\n",
       "    .dataframe thead th {\n",
       "        text-align: right;\n",
       "    }\n",
       "</style>\n",
       "<table border=\"1\" class=\"dataframe\">\n",
       "  <thead>\n",
       "    <tr style=\"text-align: right;\">\n",
       "      <th></th>\n",
       "      <th>id</th>\n",
       "      <th>member_id</th>\n",
       "      <th>loan_amnt</th>\n",
       "      <th>funded_amnt</th>\n",
       "      <th>funded_amnt_inv</th>\n",
       "      <th>term</th>\n",
       "      <th>int_rate</th>\n",
       "      <th>installment</th>\n",
       "      <th>grade</th>\n",
       "      <th>sub_grade</th>\n",
       "      <th>...</th>\n",
       "      <th>num_tl_90g_dpd_24m</th>\n",
       "      <th>num_tl_op_past_12m</th>\n",
       "      <th>pct_tl_nvr_dlq</th>\n",
       "      <th>percent_bc_gt_75</th>\n",
       "      <th>pub_rec_bankruptcies</th>\n",
       "      <th>tax_liens</th>\n",
       "      <th>tot_hi_cred_lim</th>\n",
       "      <th>total_bal_ex_mort</th>\n",
       "      <th>total_bc_limit</th>\n",
       "      <th>total_il_high_credit_limit</th>\n",
       "    </tr>\n",
       "  </thead>\n",
       "  <tbody>\n",
       "    <tr>\n",
       "      <th>0</th>\n",
       "      <td>1077501</td>\n",
       "      <td>1296599</td>\n",
       "      <td>5000</td>\n",
       "      <td>5000</td>\n",
       "      <td>4975.0</td>\n",
       "      <td>36 months</td>\n",
       "      <td>10.65%</td>\n",
       "      <td>162.87</td>\n",
       "      <td>B</td>\n",
       "      <td>B2</td>\n",
       "      <td>...</td>\n",
       "      <td>NaN</td>\n",
       "      <td>NaN</td>\n",
       "      <td>NaN</td>\n",
       "      <td>NaN</td>\n",
       "      <td>0.0</td>\n",
       "      <td>0.0</td>\n",
       "      <td>NaN</td>\n",
       "      <td>NaN</td>\n",
       "      <td>NaN</td>\n",
       "      <td>NaN</td>\n",
       "    </tr>\n",
       "    <tr>\n",
       "      <th>1</th>\n",
       "      <td>1077430</td>\n",
       "      <td>1314167</td>\n",
       "      <td>2500</td>\n",
       "      <td>2500</td>\n",
       "      <td>2500.0</td>\n",
       "      <td>60 months</td>\n",
       "      <td>15.27%</td>\n",
       "      <td>59.83</td>\n",
       "      <td>C</td>\n",
       "      <td>C4</td>\n",
       "      <td>...</td>\n",
       "      <td>NaN</td>\n",
       "      <td>NaN</td>\n",
       "      <td>NaN</td>\n",
       "      <td>NaN</td>\n",
       "      <td>0.0</td>\n",
       "      <td>0.0</td>\n",
       "      <td>NaN</td>\n",
       "      <td>NaN</td>\n",
       "      <td>NaN</td>\n",
       "      <td>NaN</td>\n",
       "    </tr>\n",
       "    <tr>\n",
       "      <th>2</th>\n",
       "      <td>1077175</td>\n",
       "      <td>1313524</td>\n",
       "      <td>2400</td>\n",
       "      <td>2400</td>\n",
       "      <td>2400.0</td>\n",
       "      <td>36 months</td>\n",
       "      <td>15.96%</td>\n",
       "      <td>84.33</td>\n",
       "      <td>C</td>\n",
       "      <td>C5</td>\n",
       "      <td>...</td>\n",
       "      <td>NaN</td>\n",
       "      <td>NaN</td>\n",
       "      <td>NaN</td>\n",
       "      <td>NaN</td>\n",
       "      <td>0.0</td>\n",
       "      <td>0.0</td>\n",
       "      <td>NaN</td>\n",
       "      <td>NaN</td>\n",
       "      <td>NaN</td>\n",
       "      <td>NaN</td>\n",
       "    </tr>\n",
       "    <tr>\n",
       "      <th>3</th>\n",
       "      <td>1076863</td>\n",
       "      <td>1277178</td>\n",
       "      <td>10000</td>\n",
       "      <td>10000</td>\n",
       "      <td>10000.0</td>\n",
       "      <td>36 months</td>\n",
       "      <td>13.49%</td>\n",
       "      <td>339.31</td>\n",
       "      <td>C</td>\n",
       "      <td>C1</td>\n",
       "      <td>...</td>\n",
       "      <td>NaN</td>\n",
       "      <td>NaN</td>\n",
       "      <td>NaN</td>\n",
       "      <td>NaN</td>\n",
       "      <td>0.0</td>\n",
       "      <td>0.0</td>\n",
       "      <td>NaN</td>\n",
       "      <td>NaN</td>\n",
       "      <td>NaN</td>\n",
       "      <td>NaN</td>\n",
       "    </tr>\n",
       "    <tr>\n",
       "      <th>4</th>\n",
       "      <td>1075358</td>\n",
       "      <td>1311748</td>\n",
       "      <td>3000</td>\n",
       "      <td>3000</td>\n",
       "      <td>3000.0</td>\n",
       "      <td>60 months</td>\n",
       "      <td>12.69%</td>\n",
       "      <td>67.79</td>\n",
       "      <td>B</td>\n",
       "      <td>B5</td>\n",
       "      <td>...</td>\n",
       "      <td>NaN</td>\n",
       "      <td>NaN</td>\n",
       "      <td>NaN</td>\n",
       "      <td>NaN</td>\n",
       "      <td>0.0</td>\n",
       "      <td>0.0</td>\n",
       "      <td>NaN</td>\n",
       "      <td>NaN</td>\n",
       "      <td>NaN</td>\n",
       "      <td>NaN</td>\n",
       "    </tr>\n",
       "  </tbody>\n",
       "</table>\n",
       "<p>5 rows × 111 columns</p>\n",
       "</div>"
      ],
      "text/plain": [
       "        id  member_id  loan_amnt  funded_amnt  funded_amnt_inv        term  \\\n",
       "0  1077501    1296599       5000         5000           4975.0   36 months   \n",
       "1  1077430    1314167       2500         2500           2500.0   60 months   \n",
       "2  1077175    1313524       2400         2400           2400.0   36 months   \n",
       "3  1076863    1277178      10000        10000          10000.0   36 months   \n",
       "4  1075358    1311748       3000         3000           3000.0   60 months   \n",
       "\n",
       "  int_rate  installment grade sub_grade  ... num_tl_90g_dpd_24m  \\\n",
       "0   10.65%       162.87     B        B2  ...                NaN   \n",
       "1   15.27%        59.83     C        C4  ...                NaN   \n",
       "2   15.96%        84.33     C        C5  ...                NaN   \n",
       "3   13.49%       339.31     C        C1  ...                NaN   \n",
       "4   12.69%        67.79     B        B5  ...                NaN   \n",
       "\n",
       "  num_tl_op_past_12m pct_tl_nvr_dlq  percent_bc_gt_75 pub_rec_bankruptcies  \\\n",
       "0                NaN            NaN               NaN                  0.0   \n",
       "1                NaN            NaN               NaN                  0.0   \n",
       "2                NaN            NaN               NaN                  0.0   \n",
       "3                NaN            NaN               NaN                  0.0   \n",
       "4                NaN            NaN               NaN                  0.0   \n",
       "\n",
       "  tax_liens tot_hi_cred_lim total_bal_ex_mort total_bc_limit  \\\n",
       "0       0.0             NaN               NaN            NaN   \n",
       "1       0.0             NaN               NaN            NaN   \n",
       "2       0.0             NaN               NaN            NaN   \n",
       "3       0.0             NaN               NaN            NaN   \n",
       "4       0.0             NaN               NaN            NaN   \n",
       "\n",
       "  total_il_high_credit_limit  \n",
       "0                        NaN  \n",
       "1                        NaN  \n",
       "2                        NaN  \n",
       "3                        NaN  \n",
       "4                        NaN  \n",
       "\n",
       "[5 rows x 111 columns]"
      ]
     },
     "execution_count": 3,
     "metadata": {},
     "output_type": "execute_result"
    }
   ],
   "source": [
    "loan.head()"
   ]
  },
  {
   "cell_type": "markdown",
   "id": "92234c3e",
   "metadata": {},
   "source": [
    "### Data Cleaning"
   ]
  },
  {
   "cell_type": "code",
   "execution_count": 11,
   "id": "70eee8ca",
   "metadata": {},
   "outputs": [],
   "source": [
    "# loan.drop(\"id\", axis = 1, inplace = True)\n",
    "# loan.head()"
   ]
  },
  {
   "cell_type": "code",
   "execution_count": 7,
   "id": "081cd3a8",
   "metadata": {},
   "outputs": [
    {
     "data": {
      "text/plain": [
       "member_id                         0\n",
       "loan_amnt                         0\n",
       "funded_amnt                       0\n",
       "funded_amnt_inv                   0\n",
       "term                              0\n",
       "                              ...  \n",
       "tax_liens                        39\n",
       "tot_hi_cred_lim               39717\n",
       "total_bal_ex_mort             39717\n",
       "total_bc_limit                39717\n",
       "total_il_high_credit_limit    39717\n",
       "Length: 110, dtype: int64"
      ]
     },
     "execution_count": 7,
     "metadata": {},
     "output_type": "execute_result"
    }
   ],
   "source": [
    "loan.isnull().sum()"
   ]
  },
  {
   "cell_type": "code",
   "execution_count": 8,
   "id": "95a83177",
   "metadata": {},
   "outputs": [],
   "source": [
    "loan1 = loan[~loan.tax_liens.isnull()].copy()"
   ]
  },
  {
   "cell_type": "code",
   "execution_count": 9,
   "id": "403b2b39",
   "metadata": {},
   "outputs": [
    {
     "data": {
      "text/plain": [
       "0"
      ]
     },
     "execution_count": 9,
     "metadata": {},
     "output_type": "execute_result"
    }
   ],
   "source": [
    "loan1.tax_liens.isnull().sum()"
   ]
  },
  {
   "cell_type": "code",
   "execution_count": 10,
   "id": "8cf4548c",
   "metadata": {},
   "outputs": [
    {
     "data": {
      "text/html": [
       "<div>\n",
       "<style scoped>\n",
       "    .dataframe tbody tr th:only-of-type {\n",
       "        vertical-align: middle;\n",
       "    }\n",
       "\n",
       "    .dataframe tbody tr th {\n",
       "        vertical-align: top;\n",
       "    }\n",
       "\n",
       "    .dataframe thead th {\n",
       "        text-align: right;\n",
       "    }\n",
       "</style>\n",
       "<table border=\"1\" class=\"dataframe\">\n",
       "  <thead>\n",
       "    <tr style=\"text-align: right;\">\n",
       "      <th></th>\n",
       "      <th>member_id</th>\n",
       "      <th>loan_amnt</th>\n",
       "      <th>funded_amnt</th>\n",
       "      <th>funded_amnt_inv</th>\n",
       "      <th>term</th>\n",
       "      <th>int_rate</th>\n",
       "      <th>installment</th>\n",
       "      <th>grade</th>\n",
       "      <th>sub_grade</th>\n",
       "      <th>emp_title</th>\n",
       "      <th>...</th>\n",
       "      <th>num_tl_90g_dpd_24m</th>\n",
       "      <th>num_tl_op_past_12m</th>\n",
       "      <th>pct_tl_nvr_dlq</th>\n",
       "      <th>percent_bc_gt_75</th>\n",
       "      <th>pub_rec_bankruptcies</th>\n",
       "      <th>tax_liens</th>\n",
       "      <th>tot_hi_cred_lim</th>\n",
       "      <th>total_bal_ex_mort</th>\n",
       "      <th>total_bc_limit</th>\n",
       "      <th>total_il_high_credit_limit</th>\n",
       "    </tr>\n",
       "  </thead>\n",
       "  <tbody>\n",
       "    <tr>\n",
       "      <th>0</th>\n",
       "      <td>1296599</td>\n",
       "      <td>5000</td>\n",
       "      <td>5000</td>\n",
       "      <td>4975.0</td>\n",
       "      <td>36 months</td>\n",
       "      <td>10.65%</td>\n",
       "      <td>162.87</td>\n",
       "      <td>B</td>\n",
       "      <td>B2</td>\n",
       "      <td>NaN</td>\n",
       "      <td>...</td>\n",
       "      <td>NaN</td>\n",
       "      <td>NaN</td>\n",
       "      <td>NaN</td>\n",
       "      <td>NaN</td>\n",
       "      <td>0.0</td>\n",
       "      <td>0.0</td>\n",
       "      <td>NaN</td>\n",
       "      <td>NaN</td>\n",
       "      <td>NaN</td>\n",
       "      <td>NaN</td>\n",
       "    </tr>\n",
       "    <tr>\n",
       "      <th>1</th>\n",
       "      <td>1314167</td>\n",
       "      <td>2500</td>\n",
       "      <td>2500</td>\n",
       "      <td>2500.0</td>\n",
       "      <td>60 months</td>\n",
       "      <td>15.27%</td>\n",
       "      <td>59.83</td>\n",
       "      <td>C</td>\n",
       "      <td>C4</td>\n",
       "      <td>Ryder</td>\n",
       "      <td>...</td>\n",
       "      <td>NaN</td>\n",
       "      <td>NaN</td>\n",
       "      <td>NaN</td>\n",
       "      <td>NaN</td>\n",
       "      <td>0.0</td>\n",
       "      <td>0.0</td>\n",
       "      <td>NaN</td>\n",
       "      <td>NaN</td>\n",
       "      <td>NaN</td>\n",
       "      <td>NaN</td>\n",
       "    </tr>\n",
       "    <tr>\n",
       "      <th>2</th>\n",
       "      <td>1313524</td>\n",
       "      <td>2400</td>\n",
       "      <td>2400</td>\n",
       "      <td>2400.0</td>\n",
       "      <td>36 months</td>\n",
       "      <td>15.96%</td>\n",
       "      <td>84.33</td>\n",
       "      <td>C</td>\n",
       "      <td>C5</td>\n",
       "      <td>NaN</td>\n",
       "      <td>...</td>\n",
       "      <td>NaN</td>\n",
       "      <td>NaN</td>\n",
       "      <td>NaN</td>\n",
       "      <td>NaN</td>\n",
       "      <td>0.0</td>\n",
       "      <td>0.0</td>\n",
       "      <td>NaN</td>\n",
       "      <td>NaN</td>\n",
       "      <td>NaN</td>\n",
       "      <td>NaN</td>\n",
       "    </tr>\n",
       "    <tr>\n",
       "      <th>3</th>\n",
       "      <td>1277178</td>\n",
       "      <td>10000</td>\n",
       "      <td>10000</td>\n",
       "      <td>10000.0</td>\n",
       "      <td>36 months</td>\n",
       "      <td>13.49%</td>\n",
       "      <td>339.31</td>\n",
       "      <td>C</td>\n",
       "      <td>C1</td>\n",
       "      <td>AIR RESOURCES BOARD</td>\n",
       "      <td>...</td>\n",
       "      <td>NaN</td>\n",
       "      <td>NaN</td>\n",
       "      <td>NaN</td>\n",
       "      <td>NaN</td>\n",
       "      <td>0.0</td>\n",
       "      <td>0.0</td>\n",
       "      <td>NaN</td>\n",
       "      <td>NaN</td>\n",
       "      <td>NaN</td>\n",
       "      <td>NaN</td>\n",
       "    </tr>\n",
       "    <tr>\n",
       "      <th>4</th>\n",
       "      <td>1311748</td>\n",
       "      <td>3000</td>\n",
       "      <td>3000</td>\n",
       "      <td>3000.0</td>\n",
       "      <td>60 months</td>\n",
       "      <td>12.69%</td>\n",
       "      <td>67.79</td>\n",
       "      <td>B</td>\n",
       "      <td>B5</td>\n",
       "      <td>University Medical Group</td>\n",
       "      <td>...</td>\n",
       "      <td>NaN</td>\n",
       "      <td>NaN</td>\n",
       "      <td>NaN</td>\n",
       "      <td>NaN</td>\n",
       "      <td>0.0</td>\n",
       "      <td>0.0</td>\n",
       "      <td>NaN</td>\n",
       "      <td>NaN</td>\n",
       "      <td>NaN</td>\n",
       "      <td>NaN</td>\n",
       "    </tr>\n",
       "  </tbody>\n",
       "</table>\n",
       "<p>5 rows × 110 columns</p>\n",
       "</div>"
      ],
      "text/plain": [
       "   member_id  loan_amnt  funded_amnt  funded_amnt_inv        term int_rate  \\\n",
       "0    1296599       5000         5000           4975.0   36 months   10.65%   \n",
       "1    1314167       2500         2500           2500.0   60 months   15.27%   \n",
       "2    1313524       2400         2400           2400.0   36 months   15.96%   \n",
       "3    1277178      10000        10000          10000.0   36 months   13.49%   \n",
       "4    1311748       3000         3000           3000.0   60 months   12.69%   \n",
       "\n",
       "   installment grade sub_grade                 emp_title  ...  \\\n",
       "0       162.87     B        B2                       NaN  ...   \n",
       "1        59.83     C        C4                     Ryder  ...   \n",
       "2        84.33     C        C5                       NaN  ...   \n",
       "3       339.31     C        C1       AIR RESOURCES BOARD  ...   \n",
       "4        67.79     B        B5  University Medical Group  ...   \n",
       "\n",
       "  num_tl_90g_dpd_24m num_tl_op_past_12m  pct_tl_nvr_dlq percent_bc_gt_75  \\\n",
       "0                NaN                NaN             NaN              NaN   \n",
       "1                NaN                NaN             NaN              NaN   \n",
       "2                NaN                NaN             NaN              NaN   \n",
       "3                NaN                NaN             NaN              NaN   \n",
       "4                NaN                NaN             NaN              NaN   \n",
       "\n",
       "  pub_rec_bankruptcies tax_liens tot_hi_cred_lim total_bal_ex_mort  \\\n",
       "0                  0.0       0.0             NaN               NaN   \n",
       "1                  0.0       0.0             NaN               NaN   \n",
       "2                  0.0       0.0             NaN               NaN   \n",
       "3                  0.0       0.0             NaN               NaN   \n",
       "4                  0.0       0.0             NaN               NaN   \n",
       "\n",
       "  total_bc_limit total_il_high_credit_limit  \n",
       "0            NaN                        NaN  \n",
       "1            NaN                        NaN  \n",
       "2            NaN                        NaN  \n",
       "3            NaN                        NaN  \n",
       "4            NaN                        NaN  \n",
       "\n",
       "[5 rows x 110 columns]"
      ]
     },
     "execution_count": 10,
     "metadata": {},
     "output_type": "execute_result"
    }
   ],
   "source": [
    "loan1.head()"
   ]
  },
  {
   "cell_type": "code",
   "execution_count": 12,
   "id": "b37b2f92",
   "metadata": {},
   "outputs": [
    {
     "data": {
      "text/plain": [
       "(39717, 110)"
      ]
     },
     "execution_count": 12,
     "metadata": {},
     "output_type": "execute_result"
    }
   ],
   "source": [
    "loan.shape"
   ]
  },
  {
   "cell_type": "code",
   "execution_count": 13,
   "id": "2d2b51bf",
   "metadata": {},
   "outputs": [
    {
     "data": {
      "text/plain": [
       "Index(['member_id', 'loan_amnt', 'funded_amnt', 'funded_amnt_inv', 'term',\n",
       "       'int_rate', 'installment', 'grade', 'sub_grade', 'emp_title',\n",
       "       ...\n",
       "       'num_tl_90g_dpd_24m', 'num_tl_op_past_12m', 'pct_tl_nvr_dlq',\n",
       "       'percent_bc_gt_75', 'pub_rec_bankruptcies', 'tax_liens',\n",
       "       'tot_hi_cred_lim', 'total_bal_ex_mort', 'total_bc_limit',\n",
       "       'total_il_high_credit_limit'],\n",
       "      dtype='object', length=110)"
      ]
     },
     "execution_count": 13,
     "metadata": {},
     "output_type": "execute_result"
    }
   ],
   "source": [
    "loan.columns"
   ]
  },
  {
   "cell_type": "code",
   "execution_count": 14,
   "id": "cf48b0db",
   "metadata": {},
   "outputs": [
    {
     "data": {
      "text/plain": [
       "member_id                       0.0\n",
       "loan_amnt                       0.0\n",
       "funded_amnt                     0.0\n",
       "funded_amnt_inv                 0.0\n",
       "term                            0.0\n",
       "                              ...  \n",
       "tax_liens                       0.0\n",
       "tot_hi_cred_lim               100.0\n",
       "total_bal_ex_mort             100.0\n",
       "total_bc_limit                100.0\n",
       "total_il_high_credit_limit    100.0\n",
       "Length: 110, dtype: float64"
      ]
     },
     "execution_count": 14,
     "metadata": {},
     "output_type": "execute_result"
    }
   ],
   "source": [
    "#Percentage of missing values in each column\n",
    "round(loan.isnull().sum()/len(loan.index), 2)*100"
   ]
  },
  {
   "cell_type": "code",
   "execution_count": 15,
   "id": "c62e55bc",
   "metadata": {},
   "outputs": [
    {
     "name": "stdout",
     "output_type": "stream",
     "text": [
      "Index(['mths_since_last_record', 'next_pymnt_d', 'mths_since_last_major_derog',\n",
      "       'annual_inc_joint', 'dti_joint', 'verification_status_joint',\n",
      "       'tot_coll_amt', 'tot_cur_bal', 'open_acc_6m', 'open_il_6m',\n",
      "       'open_il_12m', 'open_il_24m', 'mths_since_rcnt_il', 'total_bal_il',\n",
      "       'il_util', 'open_rv_12m', 'open_rv_24m', 'max_bal_bc', 'all_util',\n",
      "       'total_rev_hi_lim', 'inq_fi', 'total_cu_tl', 'inq_last_12m',\n",
      "       'acc_open_past_24mths', 'avg_cur_bal', 'bc_open_to_buy', 'bc_util',\n",
      "       'mo_sin_old_il_acct', 'mo_sin_old_rev_tl_op', 'mo_sin_rcnt_rev_tl_op',\n",
      "       'mo_sin_rcnt_tl', 'mort_acc', 'mths_since_recent_bc',\n",
      "       'mths_since_recent_bc_dlq', 'mths_since_recent_inq',\n",
      "       'mths_since_recent_revol_delinq', 'num_accts_ever_120_pd',\n",
      "       'num_actv_bc_tl', 'num_actv_rev_tl', 'num_bc_sats', 'num_bc_tl',\n",
      "       'num_il_tl', 'num_op_rev_tl', 'num_rev_accts', 'num_rev_tl_bal_gt_0',\n",
      "       'num_sats', 'num_tl_120dpd_2m', 'num_tl_30dpd', 'num_tl_90g_dpd_24m',\n",
      "       'num_tl_op_past_12m', 'pct_tl_nvr_dlq', 'percent_bc_gt_75',\n",
      "       'tot_hi_cred_lim', 'total_bal_ex_mort', 'total_bc_limit',\n",
      "       'total_il_high_credit_limit'],\n",
      "      dtype='object')\n"
     ]
    }
   ],
   "source": [
    "#Removing the columns having more than 90% missing values\n",
    "missing_columns = loan.columns[100*(loan.isnull().sum()/len(loan.index)) > 90]\n",
    "print(missing_columns)\n"
   ]
  },
  {
   "cell_type": "code",
   "execution_count": 16,
   "id": "29567001",
   "metadata": {},
   "outputs": [
    {
     "name": "stdout",
     "output_type": "stream",
     "text": [
      "(39717, 54)\n"
     ]
    }
   ],
   "source": [
    "loan = loan.drop(missing_columns, axis = 1)\n",
    "print(loan.shape)"
   ]
  },
  {
   "cell_type": "code",
   "execution_count": 17,
   "id": "9a5fc0ff",
   "metadata": {},
   "outputs": [
    {
     "data": {
      "text/plain": [
       "member_id                      0.000000\n",
       "loan_amnt                      0.000000\n",
       "funded_amnt                    0.000000\n",
       "funded_amnt_inv                0.000000\n",
       "term                           0.000000\n",
       "int_rate                       0.000000\n",
       "installment                    0.000000\n",
       "grade                          0.000000\n",
       "sub_grade                      0.000000\n",
       "emp_title                      6.191303\n",
       "emp_length                     2.706650\n",
       "home_ownership                 0.000000\n",
       "annual_inc                     0.000000\n",
       "verification_status            0.000000\n",
       "issue_d                        0.000000\n",
       "loan_status                    0.000000\n",
       "pymnt_plan                     0.000000\n",
       "url                            0.000000\n",
       "desc                          32.580507\n",
       "purpose                        0.000000\n",
       "title                          0.027696\n",
       "zip_code                       0.000000\n",
       "addr_state                     0.000000\n",
       "dti                            0.000000\n",
       "delinq_2yrs                    0.000000\n",
       "earliest_cr_line               0.000000\n",
       "inq_last_6mths                 0.000000\n",
       "mths_since_last_delinq        64.662487\n",
       "open_acc                       0.000000\n",
       "pub_rec                        0.000000\n",
       "revol_bal                      0.000000\n",
       "revol_util                     0.125891\n",
       "total_acc                      0.000000\n",
       "initial_list_status            0.000000\n",
       "out_prncp                      0.000000\n",
       "out_prncp_inv                  0.000000\n",
       "total_pymnt                    0.000000\n",
       "total_pymnt_inv                0.000000\n",
       "total_rec_prncp                0.000000\n",
       "total_rec_int                  0.000000\n",
       "total_rec_late_fee             0.000000\n",
       "recoveries                     0.000000\n",
       "collection_recovery_fee        0.000000\n",
       "last_pymnt_d                   0.178765\n",
       "last_pymnt_amnt                0.000000\n",
       "last_credit_pull_d             0.005036\n",
       "collections_12_mths_ex_med     0.140998\n",
       "policy_code                    0.000000\n",
       "application_type               0.000000\n",
       "acc_now_delinq                 0.000000\n",
       "chargeoff_within_12_mths       0.140998\n",
       "delinq_amnt                    0.000000\n",
       "pub_rec_bankruptcies           1.754916\n",
       "tax_liens                      0.098195\n",
       "dtype: float64"
      ]
     },
     "execution_count": 17,
     "metadata": {},
     "output_type": "execute_result"
    }
   ],
   "source": [
    "#Sumaarize number of missing values again\n",
    "100*(loan.isnull().sum()/len(loan.index))"
   ]
  },
  {
   "cell_type": "code",
   "execution_count": 33,
   "id": "488aa51f",
   "metadata": {},
   "outputs": [],
   "source": [
    "# There are now 2 columns having approx 32 and 64% missing values - \n",
    "# description and months since last delinquent\n",
    "\n",
    "# let's have a look at a few entries in the columns\n",
    "# loan.loc[:, ['desc','mths_since_last_delinq']].head()"
   ]
  },
  {
   "cell_type": "code",
   "execution_count": 19,
   "id": "be85ac2a",
   "metadata": {},
   "outputs": [],
   "source": [
    "#Dropping the two columns\n",
    "loan = loan.drop(['desc','mths_since_last_delinq'], axis = 1)\n"
   ]
  },
  {
   "cell_type": "code",
   "execution_count": 20,
   "id": "d51d960d",
   "metadata": {},
   "outputs": [
    {
     "data": {
      "text/plain": [
       "member_id                     0.000000\n",
       "loan_amnt                     0.000000\n",
       "funded_amnt                   0.000000\n",
       "funded_amnt_inv               0.000000\n",
       "term                          0.000000\n",
       "int_rate                      0.000000\n",
       "installment                   0.000000\n",
       "grade                         0.000000\n",
       "sub_grade                     0.000000\n",
       "emp_title                     6.191303\n",
       "emp_length                    2.706650\n",
       "home_ownership                0.000000\n",
       "annual_inc                    0.000000\n",
       "verification_status           0.000000\n",
       "issue_d                       0.000000\n",
       "loan_status                   0.000000\n",
       "pymnt_plan                    0.000000\n",
       "url                           0.000000\n",
       "purpose                       0.000000\n",
       "title                         0.027696\n",
       "zip_code                      0.000000\n",
       "addr_state                    0.000000\n",
       "dti                           0.000000\n",
       "delinq_2yrs                   0.000000\n",
       "earliest_cr_line              0.000000\n",
       "inq_last_6mths                0.000000\n",
       "open_acc                      0.000000\n",
       "pub_rec                       0.000000\n",
       "revol_bal                     0.000000\n",
       "revol_util                    0.125891\n",
       "total_acc                     0.000000\n",
       "initial_list_status           0.000000\n",
       "out_prncp                     0.000000\n",
       "out_prncp_inv                 0.000000\n",
       "total_pymnt                   0.000000\n",
       "total_pymnt_inv               0.000000\n",
       "total_rec_prncp               0.000000\n",
       "total_rec_int                 0.000000\n",
       "total_rec_late_fee            0.000000\n",
       "recoveries                    0.000000\n",
       "collection_recovery_fee       0.000000\n",
       "last_pymnt_d                  0.178765\n",
       "last_pymnt_amnt               0.000000\n",
       "last_credit_pull_d            0.005036\n",
       "collections_12_mths_ex_med    0.140998\n",
       "policy_code                   0.000000\n",
       "application_type              0.000000\n",
       "acc_now_delinq                0.000000\n",
       "chargeoff_within_12_mths      0.140998\n",
       "delinq_amnt                   0.000000\n",
       "pub_rec_bankruptcies          1.754916\n",
       "tax_liens                     0.098195\n",
       "dtype: float64"
      ]
     },
     "execution_count": 20,
     "metadata": {},
     "output_type": "execute_result"
    }
   ],
   "source": [
    "100*(loan.isnull().sum()/len(loan.index))"
   ]
  },
  {
   "cell_type": "code",
   "execution_count": 21,
   "id": "d34c57d1",
   "metadata": {},
   "outputs": [
    {
     "data": {
      "text/plain": [
       "0        1\n",
       "1        0\n",
       "2        1\n",
       "3        0\n",
       "4        0\n",
       "        ..\n",
       "39712    4\n",
       "39713    4\n",
       "39714    5\n",
       "39715    5\n",
       "39716    4\n",
       "Length: 39717, dtype: int64"
      ]
     },
     "execution_count": 21,
     "metadata": {},
     "output_type": "execute_result"
    }
   ],
   "source": [
    "#missing values in rows\n",
    "loan.isnull().sum(axis = 1)"
   ]
  },
  {
   "cell_type": "code",
   "execution_count": 22,
   "id": "75333a2a",
   "metadata": {},
   "outputs": [
    {
     "data": {
      "text/plain": [
       "0"
      ]
     },
     "execution_count": 22,
     "metadata": {},
     "output_type": "execute_result"
    }
   ],
   "source": [
    "#checking whether some rows have more than 5 missing value\n",
    "len(loan[loan.isnull().sum(axis=1) >5].index)"
   ]
  },
  {
   "cell_type": "code",
   "execution_count": 23,
   "id": "a6b1b514",
   "metadata": {},
   "outputs": [
    {
     "name": "stdout",
     "output_type": "stream",
     "text": [
      "<class 'pandas.core.frame.DataFrame'>\n",
      "RangeIndex: 39717 entries, 0 to 39716\n",
      "Data columns (total 52 columns):\n",
      " #   Column                      Non-Null Count  Dtype  \n",
      "---  ------                      --------------  -----  \n",
      " 0   member_id                   39717 non-null  int64  \n",
      " 1   loan_amnt                   39717 non-null  int64  \n",
      " 2   funded_amnt                 39717 non-null  int64  \n",
      " 3   funded_amnt_inv             39717 non-null  float64\n",
      " 4   term                        39717 non-null  object \n",
      " 5   int_rate                    39717 non-null  object \n",
      " 6   installment                 39717 non-null  float64\n",
      " 7   grade                       39717 non-null  object \n",
      " 8   sub_grade                   39717 non-null  object \n",
      " 9   emp_title                   37258 non-null  object \n",
      " 10  emp_length                  38642 non-null  object \n",
      " 11  home_ownership              39717 non-null  object \n",
      " 12  annual_inc                  39717 non-null  float64\n",
      " 13  verification_status         39717 non-null  object \n",
      " 14  issue_d                     39717 non-null  object \n",
      " 15  loan_status                 39717 non-null  object \n",
      " 16  pymnt_plan                  39717 non-null  object \n",
      " 17  url                         39717 non-null  object \n",
      " 18  purpose                     39717 non-null  object \n",
      " 19  title                       39706 non-null  object \n",
      " 20  zip_code                    39717 non-null  object \n",
      " 21  addr_state                  39717 non-null  object \n",
      " 22  dti                         39717 non-null  float64\n",
      " 23  delinq_2yrs                 39717 non-null  int64  \n",
      " 24  earliest_cr_line            39717 non-null  object \n",
      " 25  inq_last_6mths              39717 non-null  int64  \n",
      " 26  open_acc                    39717 non-null  int64  \n",
      " 27  pub_rec                     39717 non-null  int64  \n",
      " 28  revol_bal                   39717 non-null  int64  \n",
      " 29  revol_util                  39667 non-null  object \n",
      " 30  total_acc                   39717 non-null  int64  \n",
      " 31  initial_list_status         39717 non-null  object \n",
      " 32  out_prncp                   39717 non-null  float64\n",
      " 33  out_prncp_inv               39717 non-null  float64\n",
      " 34  total_pymnt                 39717 non-null  float64\n",
      " 35  total_pymnt_inv             39717 non-null  float64\n",
      " 36  total_rec_prncp             39717 non-null  float64\n",
      " 37  total_rec_int               39717 non-null  float64\n",
      " 38  total_rec_late_fee          39717 non-null  float64\n",
      " 39  recoveries                  39717 non-null  float64\n",
      " 40  collection_recovery_fee     39717 non-null  float64\n",
      " 41  last_pymnt_d                39646 non-null  object \n",
      " 42  last_pymnt_amnt             39717 non-null  float64\n",
      " 43  last_credit_pull_d          39715 non-null  object \n",
      " 44  collections_12_mths_ex_med  39661 non-null  float64\n",
      " 45  policy_code                 39717 non-null  int64  \n",
      " 46  application_type            39717 non-null  object \n",
      " 47  acc_now_delinq              39717 non-null  int64  \n",
      " 48  chargeoff_within_12_mths    39661 non-null  float64\n",
      " 49  delinq_amnt                 39717 non-null  int64  \n",
      " 50  pub_rec_bankruptcies        39020 non-null  float64\n",
      " 51  tax_liens                   39678 non-null  float64\n",
      "dtypes: float64(18), int64(12), object(22)\n",
      "memory usage: 15.8+ MB\n"
     ]
    }
   ],
   "source": [
    "loan.info()"
   ]
  },
  {
   "cell_type": "code",
   "execution_count": 25,
   "id": "d511918c",
   "metadata": {},
   "outputs": [],
   "source": [
    "# The column int_rate is character type, let's convert it to float\n",
    "# loan['int_rate'] = loan['int_rate'].apply(lambda x: pd.to_numeric(x.split(\"%\")[0]))\n",
    "loan['int_rate'] = loan['int_rate'].str.replace('%', '').astype(float)/100"
   ]
  },
  {
   "cell_type": "code",
   "execution_count": 26,
   "id": "feb8c6dc",
   "metadata": {},
   "outputs": [
    {
     "name": "stdout",
     "output_type": "stream",
     "text": [
      "<class 'pandas.core.frame.DataFrame'>\n",
      "RangeIndex: 39717 entries, 0 to 39716\n",
      "Data columns (total 52 columns):\n",
      " #   Column                      Non-Null Count  Dtype  \n",
      "---  ------                      --------------  -----  \n",
      " 0   member_id                   39717 non-null  int64  \n",
      " 1   loan_amnt                   39717 non-null  int64  \n",
      " 2   funded_amnt                 39717 non-null  int64  \n",
      " 3   funded_amnt_inv             39717 non-null  float64\n",
      " 4   term                        39717 non-null  object \n",
      " 5   int_rate                    39717 non-null  float64\n",
      " 6   installment                 39717 non-null  float64\n",
      " 7   grade                       39717 non-null  object \n",
      " 8   sub_grade                   39717 non-null  object \n",
      " 9   emp_title                   37258 non-null  object \n",
      " 10  emp_length                  38642 non-null  object \n",
      " 11  home_ownership              39717 non-null  object \n",
      " 12  annual_inc                  39717 non-null  float64\n",
      " 13  verification_status         39717 non-null  object \n",
      " 14  issue_d                     39717 non-null  object \n",
      " 15  loan_status                 39717 non-null  object \n",
      " 16  pymnt_plan                  39717 non-null  object \n",
      " 17  url                         39717 non-null  object \n",
      " 18  purpose                     39717 non-null  object \n",
      " 19  title                       39706 non-null  object \n",
      " 20  zip_code                    39717 non-null  object \n",
      " 21  addr_state                  39717 non-null  object \n",
      " 22  dti                         39717 non-null  float64\n",
      " 23  delinq_2yrs                 39717 non-null  int64  \n",
      " 24  earliest_cr_line            39717 non-null  object \n",
      " 25  inq_last_6mths              39717 non-null  int64  \n",
      " 26  open_acc                    39717 non-null  int64  \n",
      " 27  pub_rec                     39717 non-null  int64  \n",
      " 28  revol_bal                   39717 non-null  int64  \n",
      " 29  revol_util                  39667 non-null  object \n",
      " 30  total_acc                   39717 non-null  int64  \n",
      " 31  initial_list_status         39717 non-null  object \n",
      " 32  out_prncp                   39717 non-null  float64\n",
      " 33  out_prncp_inv               39717 non-null  float64\n",
      " 34  total_pymnt                 39717 non-null  float64\n",
      " 35  total_pymnt_inv             39717 non-null  float64\n",
      " 36  total_rec_prncp             39717 non-null  float64\n",
      " 37  total_rec_int               39717 non-null  float64\n",
      " 38  total_rec_late_fee          39717 non-null  float64\n",
      " 39  recoveries                  39717 non-null  float64\n",
      " 40  collection_recovery_fee     39717 non-null  float64\n",
      " 41  last_pymnt_d                39646 non-null  object \n",
      " 42  last_pymnt_amnt             39717 non-null  float64\n",
      " 43  last_credit_pull_d          39715 non-null  object \n",
      " 44  collections_12_mths_ex_med  39661 non-null  float64\n",
      " 45  policy_code                 39717 non-null  int64  \n",
      " 46  application_type            39717 non-null  object \n",
      " 47  acc_now_delinq              39717 non-null  int64  \n",
      " 48  chargeoff_within_12_mths    39661 non-null  float64\n",
      " 49  delinq_amnt                 39717 non-null  int64  \n",
      " 50  pub_rec_bankruptcies        39020 non-null  float64\n",
      " 51  tax_liens                   39678 non-null  float64\n",
      "dtypes: float64(19), int64(12), object(21)\n",
      "memory usage: 15.8+ MB\n"
     ]
    }
   ],
   "source": [
    "loan.info()"
   ]
  },
  {
   "cell_type": "code",
   "execution_count": 27,
   "id": "ab70490c",
   "metadata": {},
   "outputs": [],
   "source": [
    "# also, lets extract the numeric part from the variable employment length\n",
    "\n",
    "# first, let's drop the missing values from the column\n",
    "loan = loan[~loan['emp_length'].isnull()]\n",
    "\n",
    "# using expression to extract numeric values from the string\n",
    "import re\n",
    "loan['emp_length'] = loan['emp_length'].apply(lambda x: re.findall('\\d+', str(x))[0])\n",
    "\n",
    "# convert to numeric\n",
    "loan['emp_length'] = loan['emp_length'].apply(lambda x: pd.to_numeric(x))"
   ]
  },
  {
   "cell_type": "code",
   "execution_count": 28,
   "id": "b34fcf65",
   "metadata": {},
   "outputs": [
    {
     "name": "stdout",
     "output_type": "stream",
     "text": [
      "<class 'pandas.core.frame.DataFrame'>\n",
      "Int64Index: 38642 entries, 0 to 39716\n",
      "Data columns (total 52 columns):\n",
      " #   Column                      Non-Null Count  Dtype  \n",
      "---  ------                      --------------  -----  \n",
      " 0   member_id                   38642 non-null  int64  \n",
      " 1   loan_amnt                   38642 non-null  int64  \n",
      " 2   funded_amnt                 38642 non-null  int64  \n",
      " 3   funded_amnt_inv             38642 non-null  float64\n",
      " 4   term                        38642 non-null  object \n",
      " 5   int_rate                    38642 non-null  float64\n",
      " 6   installment                 38642 non-null  float64\n",
      " 7   grade                       38642 non-null  object \n",
      " 8   sub_grade                   38642 non-null  object \n",
      " 9   emp_title                   37202 non-null  object \n",
      " 10  emp_length                  38642 non-null  int64  \n",
      " 11  home_ownership              38642 non-null  object \n",
      " 12  annual_inc                  38642 non-null  float64\n",
      " 13  verification_status         38642 non-null  object \n",
      " 14  issue_d                     38642 non-null  object \n",
      " 15  loan_status                 38642 non-null  object \n",
      " 16  pymnt_plan                  38642 non-null  object \n",
      " 17  url                         38642 non-null  object \n",
      " 18  purpose                     38642 non-null  object \n",
      " 19  title                       38632 non-null  object \n",
      " 20  zip_code                    38642 non-null  object \n",
      " 21  addr_state                  38642 non-null  object \n",
      " 22  dti                         38642 non-null  float64\n",
      " 23  delinq_2yrs                 38642 non-null  int64  \n",
      " 24  earliest_cr_line            38642 non-null  object \n",
      " 25  inq_last_6mths              38642 non-null  int64  \n",
      " 26  open_acc                    38642 non-null  int64  \n",
      " 27  pub_rec                     38642 non-null  int64  \n",
      " 28  revol_bal                   38642 non-null  int64  \n",
      " 29  revol_util                  38595 non-null  object \n",
      " 30  total_acc                   38642 non-null  int64  \n",
      " 31  initial_list_status         38642 non-null  object \n",
      " 32  out_prncp                   38642 non-null  float64\n",
      " 33  out_prncp_inv               38642 non-null  float64\n",
      " 34  total_pymnt                 38642 non-null  float64\n",
      " 35  total_pymnt_inv             38642 non-null  float64\n",
      " 36  total_rec_prncp             38642 non-null  float64\n",
      " 37  total_rec_int               38642 non-null  float64\n",
      " 38  total_rec_late_fee          38642 non-null  float64\n",
      " 39  recoveries                  38642 non-null  float64\n",
      " 40  collection_recovery_fee     38642 non-null  float64\n",
      " 41  last_pymnt_d                38576 non-null  object \n",
      " 42  last_pymnt_amnt             38642 non-null  float64\n",
      " 43  last_credit_pull_d          38640 non-null  object \n",
      " 44  collections_12_mths_ex_med  38586 non-null  float64\n",
      " 45  policy_code                 38642 non-null  int64  \n",
      " 46  application_type            38642 non-null  object \n",
      " 47  acc_now_delinq              38642 non-null  int64  \n",
      " 48  chargeoff_within_12_mths    38586 non-null  float64\n",
      " 49  delinq_amnt                 38642 non-null  int64  \n",
      " 50  pub_rec_bankruptcies        37945 non-null  float64\n",
      " 51  tax_liens                   38603 non-null  float64\n",
      "dtypes: float64(19), int64(13), object(20)\n",
      "memory usage: 15.6+ MB\n"
     ]
    }
   ],
   "source": [
    "loan.info()"
   ]
  },
  {
   "cell_type": "markdown",
   "id": "fc9eee38",
   "metadata": {},
   "source": [
    "## Data Analysis "
   ]
  },
  {
   "cell_type": "code",
   "execution_count": 29,
   "id": "74a4854d",
   "metadata": {},
   "outputs": [
    {
     "data": {
      "text/plain": [
       "['delinq_2yrs',\n",
       " 'earliest_cr_line',\n",
       " 'inq_last_6mths',\n",
       " 'open_acc',\n",
       " 'pub_rec',\n",
       " 'revol_bal',\n",
       " 'revol_util',\n",
       " 'total_acc',\n",
       " 'out_prncp',\n",
       " 'out_prncp_inv',\n",
       " 'total_pymnt',\n",
       " 'total_pymnt_inv',\n",
       " 'total_rec_prncp',\n",
       " 'total_rec_int',\n",
       " 'total_rec_late_fee',\n",
       " 'recoveries',\n",
       " 'collection_recovery_fee',\n",
       " 'last_pymnt_d',\n",
       " 'last_pymnt_amnt',\n",
       " 'last_credit_pull_d',\n",
       " 'application_type']"
      ]
     },
     "execution_count": 29,
     "metadata": {},
     "output_type": "execute_result"
    }
   ],
   "source": [
    "behaviour_var =  [\n",
    "  \"delinq_2yrs\",\n",
    "  \"earliest_cr_line\",\n",
    "  \"inq_last_6mths\",\n",
    "  \"open_acc\",\n",
    "  \"pub_rec\",\n",
    "  \"revol_bal\",\n",
    "  \"revol_util\",\n",
    "  \"total_acc\",\n",
    "  \"out_prncp\",\n",
    "  \"out_prncp_inv\",\n",
    "  \"total_pymnt\",\n",
    "  \"total_pymnt_inv\",\n",
    "  \"total_rec_prncp\",\n",
    "  \"total_rec_int\",\n",
    "  \"total_rec_late_fee\",\n",
    "  \"recoveries\",\n",
    "  \"collection_recovery_fee\",\n",
    "  \"last_pymnt_d\",\n",
    "  \"last_pymnt_amnt\",\n",
    "  \"last_credit_pull_d\",\n",
    "  \"application_type\"]\n",
    "behaviour_var"
   ]
  },
  {
   "cell_type": "code",
   "execution_count": 31,
   "id": "e7109fce",
   "metadata": {},
   "outputs": [
    {
     "name": "stdout",
     "output_type": "stream",
     "text": [
      "<class 'pandas.core.frame.DataFrame'>\n",
      "Int64Index: 38642 entries, 0 to 39716\n",
      "Data columns (total 31 columns):\n",
      " #   Column                      Non-Null Count  Dtype  \n",
      "---  ------                      --------------  -----  \n",
      " 0   member_id                   38642 non-null  int64  \n",
      " 1   loan_amnt                   38642 non-null  int64  \n",
      " 2   funded_amnt                 38642 non-null  int64  \n",
      " 3   funded_amnt_inv             38642 non-null  float64\n",
      " 4   term                        38642 non-null  object \n",
      " 5   int_rate                    38642 non-null  float64\n",
      " 6   installment                 38642 non-null  float64\n",
      " 7   grade                       38642 non-null  object \n",
      " 8   sub_grade                   38642 non-null  object \n",
      " 9   emp_title                   37202 non-null  object \n",
      " 10  emp_length                  38642 non-null  int64  \n",
      " 11  home_ownership              38642 non-null  object \n",
      " 12  annual_inc                  38642 non-null  float64\n",
      " 13  verification_status         38642 non-null  object \n",
      " 14  issue_d                     38642 non-null  object \n",
      " 15  loan_status                 38642 non-null  object \n",
      " 16  pymnt_plan                  38642 non-null  object \n",
      " 17  url                         38642 non-null  object \n",
      " 18  purpose                     38642 non-null  object \n",
      " 19  title                       38632 non-null  object \n",
      " 20  zip_code                    38642 non-null  object \n",
      " 21  addr_state                  38642 non-null  object \n",
      " 22  dti                         38642 non-null  float64\n",
      " 23  initial_list_status         38642 non-null  object \n",
      " 24  collections_12_mths_ex_med  38586 non-null  float64\n",
      " 25  policy_code                 38642 non-null  int64  \n",
      " 26  acc_now_delinq              38642 non-null  int64  \n",
      " 27  chargeoff_within_12_mths    38586 non-null  float64\n",
      " 28  delinq_amnt                 38642 non-null  int64  \n",
      " 29  pub_rec_bankruptcies        37945 non-null  float64\n",
      " 30  tax_liens                   38603 non-null  float64\n",
      "dtypes: float64(9), int64(7), object(15)\n",
      "memory usage: 9.4+ MB\n"
     ]
    }
   ],
   "source": [
    "loan1 = loan.drop(behaviour_var, axis = 1)\n",
    "loan1.info()"
   ]
  },
  {
   "cell_type": "code",
   "execution_count": 34,
   "id": "25a6ac23",
   "metadata": {},
   "outputs": [
    {
     "data": {
      "text/html": [
       "<div>\n",
       "<style scoped>\n",
       "    .dataframe tbody tr th:only-of-type {\n",
       "        vertical-align: middle;\n",
       "    }\n",
       "\n",
       "    .dataframe tbody tr th {\n",
       "        vertical-align: top;\n",
       "    }\n",
       "\n",
       "    .dataframe thead th {\n",
       "        text-align: right;\n",
       "    }\n",
       "</style>\n",
       "<table border=\"1\" class=\"dataframe\">\n",
       "  <thead>\n",
       "    <tr style=\"text-align: right;\">\n",
       "      <th></th>\n",
       "      <th>member_id</th>\n",
       "      <th>loan_amnt</th>\n",
       "      <th>funded_amnt</th>\n",
       "      <th>funded_amnt_inv</th>\n",
       "      <th>term</th>\n",
       "      <th>int_rate</th>\n",
       "      <th>installment</th>\n",
       "      <th>grade</th>\n",
       "      <th>sub_grade</th>\n",
       "      <th>emp_title</th>\n",
       "      <th>...</th>\n",
       "      <th>last_pymnt_amnt</th>\n",
       "      <th>last_credit_pull_d</th>\n",
       "      <th>collections_12_mths_ex_med</th>\n",
       "      <th>policy_code</th>\n",
       "      <th>application_type</th>\n",
       "      <th>acc_now_delinq</th>\n",
       "      <th>chargeoff_within_12_mths</th>\n",
       "      <th>delinq_amnt</th>\n",
       "      <th>pub_rec_bankruptcies</th>\n",
       "      <th>tax_liens</th>\n",
       "    </tr>\n",
       "  </thead>\n",
       "  <tbody>\n",
       "    <tr>\n",
       "      <th>0</th>\n",
       "      <td>1296599</td>\n",
       "      <td>5000</td>\n",
       "      <td>5000</td>\n",
       "      <td>4975.0</td>\n",
       "      <td>36 months</td>\n",
       "      <td>0.1065</td>\n",
       "      <td>162.87</td>\n",
       "      <td>B</td>\n",
       "      <td>B2</td>\n",
       "      <td>NaN</td>\n",
       "      <td>...</td>\n",
       "      <td>171.62</td>\n",
       "      <td>May-16</td>\n",
       "      <td>0.0</td>\n",
       "      <td>1</td>\n",
       "      <td>INDIVIDUAL</td>\n",
       "      <td>0</td>\n",
       "      <td>0.0</td>\n",
       "      <td>0</td>\n",
       "      <td>0.0</td>\n",
       "      <td>0.0</td>\n",
       "    </tr>\n",
       "    <tr>\n",
       "      <th>1</th>\n",
       "      <td>1314167</td>\n",
       "      <td>2500</td>\n",
       "      <td>2500</td>\n",
       "      <td>2500.0</td>\n",
       "      <td>60 months</td>\n",
       "      <td>0.1527</td>\n",
       "      <td>59.83</td>\n",
       "      <td>C</td>\n",
       "      <td>C4</td>\n",
       "      <td>Ryder</td>\n",
       "      <td>...</td>\n",
       "      <td>119.66</td>\n",
       "      <td>Sep-13</td>\n",
       "      <td>0.0</td>\n",
       "      <td>1</td>\n",
       "      <td>INDIVIDUAL</td>\n",
       "      <td>0</td>\n",
       "      <td>0.0</td>\n",
       "      <td>0</td>\n",
       "      <td>0.0</td>\n",
       "      <td>0.0</td>\n",
       "    </tr>\n",
       "    <tr>\n",
       "      <th>2</th>\n",
       "      <td>1313524</td>\n",
       "      <td>2400</td>\n",
       "      <td>2400</td>\n",
       "      <td>2400.0</td>\n",
       "      <td>36 months</td>\n",
       "      <td>0.1596</td>\n",
       "      <td>84.33</td>\n",
       "      <td>C</td>\n",
       "      <td>C5</td>\n",
       "      <td>NaN</td>\n",
       "      <td>...</td>\n",
       "      <td>649.91</td>\n",
       "      <td>May-16</td>\n",
       "      <td>0.0</td>\n",
       "      <td>1</td>\n",
       "      <td>INDIVIDUAL</td>\n",
       "      <td>0</td>\n",
       "      <td>0.0</td>\n",
       "      <td>0</td>\n",
       "      <td>0.0</td>\n",
       "      <td>0.0</td>\n",
       "    </tr>\n",
       "    <tr>\n",
       "      <th>3</th>\n",
       "      <td>1277178</td>\n",
       "      <td>10000</td>\n",
       "      <td>10000</td>\n",
       "      <td>10000.0</td>\n",
       "      <td>36 months</td>\n",
       "      <td>0.1349</td>\n",
       "      <td>339.31</td>\n",
       "      <td>C</td>\n",
       "      <td>C1</td>\n",
       "      <td>AIR RESOURCES BOARD</td>\n",
       "      <td>...</td>\n",
       "      <td>357.48</td>\n",
       "      <td>Apr-16</td>\n",
       "      <td>0.0</td>\n",
       "      <td>1</td>\n",
       "      <td>INDIVIDUAL</td>\n",
       "      <td>0</td>\n",
       "      <td>0.0</td>\n",
       "      <td>0</td>\n",
       "      <td>0.0</td>\n",
       "      <td>0.0</td>\n",
       "    </tr>\n",
       "    <tr>\n",
       "      <th>4</th>\n",
       "      <td>1311748</td>\n",
       "      <td>3000</td>\n",
       "      <td>3000</td>\n",
       "      <td>3000.0</td>\n",
       "      <td>60 months</td>\n",
       "      <td>0.1269</td>\n",
       "      <td>67.79</td>\n",
       "      <td>B</td>\n",
       "      <td>B5</td>\n",
       "      <td>University Medical Group</td>\n",
       "      <td>...</td>\n",
       "      <td>67.79</td>\n",
       "      <td>May-16</td>\n",
       "      <td>0.0</td>\n",
       "      <td>1</td>\n",
       "      <td>INDIVIDUAL</td>\n",
       "      <td>0</td>\n",
       "      <td>0.0</td>\n",
       "      <td>0</td>\n",
       "      <td>0.0</td>\n",
       "      <td>0.0</td>\n",
       "    </tr>\n",
       "    <tr>\n",
       "      <th>...</th>\n",
       "      <td>...</td>\n",
       "      <td>...</td>\n",
       "      <td>...</td>\n",
       "      <td>...</td>\n",
       "      <td>...</td>\n",
       "      <td>...</td>\n",
       "      <td>...</td>\n",
       "      <td>...</td>\n",
       "      <td>...</td>\n",
       "      <td>...</td>\n",
       "      <td>...</td>\n",
       "      <td>...</td>\n",
       "      <td>...</td>\n",
       "      <td>...</td>\n",
       "      <td>...</td>\n",
       "      <td>...</td>\n",
       "      <td>...</td>\n",
       "      <td>...</td>\n",
       "      <td>...</td>\n",
       "      <td>...</td>\n",
       "      <td>...</td>\n",
       "    </tr>\n",
       "    <tr>\n",
       "      <th>39712</th>\n",
       "      <td>92174</td>\n",
       "      <td>2500</td>\n",
       "      <td>2500</td>\n",
       "      <td>1075.0</td>\n",
       "      <td>36 months</td>\n",
       "      <td>0.0807</td>\n",
       "      <td>78.42</td>\n",
       "      <td>A</td>\n",
       "      <td>A4</td>\n",
       "      <td>FiSite Research</td>\n",
       "      <td>...</td>\n",
       "      <td>80.90</td>\n",
       "      <td>Jun-10</td>\n",
       "      <td>NaN</td>\n",
       "      <td>1</td>\n",
       "      <td>INDIVIDUAL</td>\n",
       "      <td>0</td>\n",
       "      <td>NaN</td>\n",
       "      <td>0</td>\n",
       "      <td>NaN</td>\n",
       "      <td>NaN</td>\n",
       "    </tr>\n",
       "    <tr>\n",
       "      <th>39713</th>\n",
       "      <td>90607</td>\n",
       "      <td>8500</td>\n",
       "      <td>8500</td>\n",
       "      <td>875.0</td>\n",
       "      <td>36 months</td>\n",
       "      <td>0.1028</td>\n",
       "      <td>275.38</td>\n",
       "      <td>C</td>\n",
       "      <td>C1</td>\n",
       "      <td>Squarewave Solutions, Ltd.</td>\n",
       "      <td>...</td>\n",
       "      <td>281.94</td>\n",
       "      <td>Jul-10</td>\n",
       "      <td>NaN</td>\n",
       "      <td>1</td>\n",
       "      <td>INDIVIDUAL</td>\n",
       "      <td>0</td>\n",
       "      <td>NaN</td>\n",
       "      <td>0</td>\n",
       "      <td>NaN</td>\n",
       "      <td>NaN</td>\n",
       "    </tr>\n",
       "    <tr>\n",
       "      <th>39714</th>\n",
       "      <td>90390</td>\n",
       "      <td>5000</td>\n",
       "      <td>5000</td>\n",
       "      <td>1325.0</td>\n",
       "      <td>36 months</td>\n",
       "      <td>0.0807</td>\n",
       "      <td>156.84</td>\n",
       "      <td>A</td>\n",
       "      <td>A4</td>\n",
       "      <td>NaN</td>\n",
       "      <td>...</td>\n",
       "      <td>0.00</td>\n",
       "      <td>Jun-07</td>\n",
       "      <td>NaN</td>\n",
       "      <td>1</td>\n",
       "      <td>INDIVIDUAL</td>\n",
       "      <td>0</td>\n",
       "      <td>NaN</td>\n",
       "      <td>0</td>\n",
       "      <td>NaN</td>\n",
       "      <td>NaN</td>\n",
       "    </tr>\n",
       "    <tr>\n",
       "      <th>39715</th>\n",
       "      <td>89243</td>\n",
       "      <td>5000</td>\n",
       "      <td>5000</td>\n",
       "      <td>650.0</td>\n",
       "      <td>36 months</td>\n",
       "      <td>0.0743</td>\n",
       "      <td>155.38</td>\n",
       "      <td>A</td>\n",
       "      <td>A2</td>\n",
       "      <td>NaN</td>\n",
       "      <td>...</td>\n",
       "      <td>0.00</td>\n",
       "      <td>Jun-07</td>\n",
       "      <td>NaN</td>\n",
       "      <td>1</td>\n",
       "      <td>INDIVIDUAL</td>\n",
       "      <td>0</td>\n",
       "      <td>NaN</td>\n",
       "      <td>0</td>\n",
       "      <td>NaN</td>\n",
       "      <td>NaN</td>\n",
       "    </tr>\n",
       "    <tr>\n",
       "      <th>39716</th>\n",
       "      <td>86999</td>\n",
       "      <td>7500</td>\n",
       "      <td>7500</td>\n",
       "      <td>800.0</td>\n",
       "      <td>36 months</td>\n",
       "      <td>0.1375</td>\n",
       "      <td>255.43</td>\n",
       "      <td>E</td>\n",
       "      <td>E2</td>\n",
       "      <td>Evergreen Center</td>\n",
       "      <td>...</td>\n",
       "      <td>256.59</td>\n",
       "      <td>Jun-10</td>\n",
       "      <td>NaN</td>\n",
       "      <td>1</td>\n",
       "      <td>INDIVIDUAL</td>\n",
       "      <td>0</td>\n",
       "      <td>NaN</td>\n",
       "      <td>0</td>\n",
       "      <td>NaN</td>\n",
       "      <td>NaN</td>\n",
       "    </tr>\n",
       "  </tbody>\n",
       "</table>\n",
       "<p>38642 rows × 48 columns</p>\n",
       "</div>"
      ],
      "text/plain": [
       "       member_id  loan_amnt  funded_amnt  funded_amnt_inv        term  \\\n",
       "0        1296599       5000         5000           4975.0   36 months   \n",
       "1        1314167       2500         2500           2500.0   60 months   \n",
       "2        1313524       2400         2400           2400.0   36 months   \n",
       "3        1277178      10000        10000          10000.0   36 months   \n",
       "4        1311748       3000         3000           3000.0   60 months   \n",
       "...          ...        ...          ...              ...         ...   \n",
       "39712      92174       2500         2500           1075.0   36 months   \n",
       "39713      90607       8500         8500            875.0   36 months   \n",
       "39714      90390       5000         5000           1325.0   36 months   \n",
       "39715      89243       5000         5000            650.0   36 months   \n",
       "39716      86999       7500         7500            800.0   36 months   \n",
       "\n",
       "       int_rate  installment grade sub_grade                   emp_title  ...  \\\n",
       "0        0.1065       162.87     B        B2                         NaN  ...   \n",
       "1        0.1527        59.83     C        C4                       Ryder  ...   \n",
       "2        0.1596        84.33     C        C5                         NaN  ...   \n",
       "3        0.1349       339.31     C        C1         AIR RESOURCES BOARD  ...   \n",
       "4        0.1269        67.79     B        B5    University Medical Group  ...   \n",
       "...         ...          ...   ...       ...                         ...  ...   \n",
       "39712    0.0807        78.42     A        A4             FiSite Research  ...   \n",
       "39713    0.1028       275.38     C        C1  Squarewave Solutions, Ltd.  ...   \n",
       "39714    0.0807       156.84     A        A4                         NaN  ...   \n",
       "39715    0.0743       155.38     A        A2                         NaN  ...   \n",
       "39716    0.1375       255.43     E        E2            Evergreen Center  ...   \n",
       "\n",
       "       last_pymnt_amnt last_credit_pull_d  collections_12_mths_ex_med  \\\n",
       "0               171.62             May-16                         0.0   \n",
       "1               119.66             Sep-13                         0.0   \n",
       "2               649.91             May-16                         0.0   \n",
       "3               357.48             Apr-16                         0.0   \n",
       "4                67.79             May-16                         0.0   \n",
       "...                ...                ...                         ...   \n",
       "39712            80.90             Jun-10                         NaN   \n",
       "39713           281.94             Jul-10                         NaN   \n",
       "39714             0.00             Jun-07                         NaN   \n",
       "39715             0.00             Jun-07                         NaN   \n",
       "39716           256.59             Jun-10                         NaN   \n",
       "\n",
       "      policy_code application_type acc_now_delinq chargeoff_within_12_mths  \\\n",
       "0               1       INDIVIDUAL              0                      0.0   \n",
       "1               1       INDIVIDUAL              0                      0.0   \n",
       "2               1       INDIVIDUAL              0                      0.0   \n",
       "3               1       INDIVIDUAL              0                      0.0   \n",
       "4               1       INDIVIDUAL              0                      0.0   \n",
       "...           ...              ...            ...                      ...   \n",
       "39712           1       INDIVIDUAL              0                      NaN   \n",
       "39713           1       INDIVIDUAL              0                      NaN   \n",
       "39714           1       INDIVIDUAL              0                      NaN   \n",
       "39715           1       INDIVIDUAL              0                      NaN   \n",
       "39716           1       INDIVIDUAL              0                      NaN   \n",
       "\n",
       "      delinq_amnt  pub_rec_bankruptcies  tax_liens  \n",
       "0               0                   0.0        0.0  \n",
       "1               0                   0.0        0.0  \n",
       "2               0                   0.0        0.0  \n",
       "3               0                   0.0        0.0  \n",
       "4               0                   0.0        0.0  \n",
       "...           ...                   ...        ...  \n",
       "39712           0                   NaN        NaN  \n",
       "39713           0                   NaN        NaN  \n",
       "39714           0                   NaN        NaN  \n",
       "39715           0                   NaN        NaN  \n",
       "39716           0                   NaN        NaN  \n",
       "\n",
       "[38642 rows x 48 columns]"
      ]
     },
     "execution_count": 34,
     "metadata": {},
     "output_type": "execute_result"
    }
   ],
   "source": [
    "# also, we will not be able to use the variables zip code, address, state etc.\n",
    "# the variable 'title' is derived from the variable 'purpose'\n",
    "# thus let get rid of all these variables as well\n",
    "loan1 = loan.drop(['title','url','zip_code','addr_state'], axis = 1)\n",
    "loan1"
   ]
  },
  {
   "cell_type": "markdown",
   "id": "8dcaf31f",
   "metadata": {},
   "source": [
    "##### Next, let's have a look at the target variable - loan_status. We need to relabel the values to a binary form - 0 or 1, 1 indicating that the person has defaulted and 0 otherwise."
   ]
  },
  {
   "cell_type": "code",
   "execution_count": 35,
   "id": "3b967f1b",
   "metadata": {},
   "outputs": [
    {
     "data": {
      "text/plain": [
       "Fully Paid     32145\n",
       "Charged Off     5399\n",
       "Current         1098\n",
       "Name: loan_status, dtype: int64"
      ]
     },
     "execution_count": 35,
     "metadata": {},
     "output_type": "execute_result"
    }
   ],
   "source": [
    "loan1['loan_status'] = loan['loan_status'].astype('category')\n",
    "loan1['loan_status'].value_counts()"
   ]
  },
  {
   "cell_type": "code",
   "execution_count": 37,
   "id": "39de5eea",
   "metadata": {},
   "outputs": [
    {
     "name": "stderr",
     "output_type": "stream",
     "text": [
      "C:\\Users\\Mihir\\AppData\\Local\\Temp\\ipykernel_17020\\3628788077.py:3: SettingWithCopyWarning: \n",
      "A value is trying to be set on a copy of a slice from a DataFrame.\n",
      "Try using .loc[row_indexer,col_indexer] = value instead\n",
      "\n",
      "See the caveats in the documentation: https://pandas.pydata.org/pandas-docs/stable/user_guide/indexing.html#returning-a-view-versus-a-copy\n",
      "  loan1['loan_status'] = loan1['loan_status'].apply(lambda x: 0 if x=='Fully Paid' else 1)\n",
      "C:\\Users\\Mihir\\AppData\\Local\\Temp\\ipykernel_17020\\3628788077.py:6: SettingWithCopyWarning: \n",
      "A value is trying to be set on a copy of a slice from a DataFrame.\n",
      "Try using .loc[row_indexer,col_indexer] = value instead\n",
      "\n",
      "See the caveats in the documentation: https://pandas.pydata.org/pandas-docs/stable/user_guide/indexing.html#returning-a-view-versus-a-copy\n",
      "  loan1['loan_status'] = loan1['loan_status'].apply(lambda x: pd.to_numeric(x))\n"
     ]
    },
    {
     "data": {
      "text/plain": [
       "0    32145\n",
       "1     5399\n",
       "Name: loan_status, dtype: int64"
      ]
     },
     "execution_count": 37,
     "metadata": {},
     "output_type": "execute_result"
    }
   ],
   "source": [
    "# filtering only fully paid or charged-off\n",
    "loan1 = loan1[loan1['loan_status'] != 'Current']\n",
    "loan1['loan_status'] = loan1['loan_status'].apply(lambda x: 0 if x=='Fully Paid' else 1)\n",
    "\n",
    "# converting loan_status to integer type\n",
    "loan1['loan_status'] = loan1['loan_status'].apply(lambda x: pd.to_numeric(x))\n",
    "\n",
    "# summarising the values\n",
    "loan1['loan_status'].value_counts()"
   ]
  },
  {
   "cell_type": "markdown",
   "id": "165fe256",
   "metadata": {},
   "source": [
    "## Univariate Analysis"
   ]
  },
  {
   "cell_type": "code",
   "execution_count": 38,
   "id": "ee21ade7",
   "metadata": {},
   "outputs": [
    {
     "data": {
      "text/plain": [
       "0.14"
      ]
     },
     "execution_count": 38,
     "metadata": {},
     "output_type": "execute_result"
    }
   ],
   "source": [
    "#Default rate\n",
    "round(np.mean(loan1['loan_status']), 2)"
   ]
  },
  {
   "cell_type": "code",
   "execution_count": 39,
   "id": "3654616f",
   "metadata": {},
   "outputs": [
    {
     "data": {
      "image/png": "[encoded data removed]",
      "text/plain": [
       "<Figure size 432x288 with 1 Axes>"
      ]
     },
     "metadata": {
      "needs_background": "light"
     },
     "output_type": "display_data"
    }
   ],
   "source": [
    "# plotting default rates across grade of the loan\n",
    "sns.barplot(x = 'grade', y = 'loan_status', data = loan1)\n",
    "plt.show()"
   ]
  },
  {
   "cell_type": "code",
   "execution_count": 40,
   "id": "4e130ed5",
   "metadata": {},
   "outputs": [],
   "source": [
    "# lets define a function to plot loan_status across categorical variables\n",
    "def plot_cat(cat_var):\n",
    "    sns.barplot(x = cat_var, y = 'loan_status', data = loan1)\n",
    "    plt.show()"
   ]
  },
  {
   "cell_type": "code",
   "execution_count": 41,
   "id": "3b9f49ff",
   "metadata": {},
   "outputs": [
    {
     "data": {
      "image/png": "[encoded data removed]",
      "text/plain": [
       "<Figure size 432x288 with 1 Axes>"
      ]
     },
     "metadata": {
      "needs_background": "light"
     },
     "output_type": "display_data"
    }
   ],
   "source": [
    "#comapring default rates across grade of loan\n",
    "plot_cat('grade')"
   ]
  },
  {
   "cell_type": "markdown",
   "id": "1c6ffa66",
   "metadata": {},
   "source": [
    "#### Clearly, as the grade of loan goes from A to G, the default rate increases. This is expected because the grade is decided by Lending Club based on the riskiness of the loan."
   ]
  },
  {
   "cell_type": "code",
   "execution_count": 42,
   "id": "2c7e02cb",
   "metadata": {},
   "outputs": [
    {
     "data": {
      "image/png": "[encoded data removed]",
      "text/plain": [
       "<Figure size 432x288 with 1 Axes>"
      ]
     },
     "metadata": {
      "needs_background": "light"
     },
     "output_type": "display_data"
    }
   ],
   "source": [
    "# term: 60 months loans default more than 36 months loans\n",
    "plot_cat('term')"
   ]
  },
  {
   "cell_type": "code",
   "execution_count": 44,
   "id": "92909f72",
   "metadata": {},
   "outputs": [
    {
     "data": {
      "image/png": "[encoded data removed]",
      "text/plain": [
       "<Figure size 1152x432 with 1 Axes>"
      ]
     },
     "metadata": {
      "needs_background": "light"
     },
     "output_type": "display_data"
    }
   ],
   "source": [
    "# sub-grade: as expected - A1 is better than A2 better than A3\n",
    "plt.figure(figsize=(16,6))\n",
    "plot_cat('sub_grade')"
   ]
  },
  {
   "cell_type": "code",
   "execution_count": 45,
   "id": "1070d613",
   "metadata": {},
   "outputs": [
    {
     "data": {
      "image/png": "[encoded data removed]",
      "text/plain": [
       "<Figure size 432x288 with 1 Axes>"
      ]
     },
     "metadata": {
      "needs_background": "light"
     },
     "output_type": "display_data"
    }
   ],
   "source": [
    "# home ownership: not a great discriminator\n",
    "plot_cat('home_ownership')"
   ]
  },
  {
   "cell_type": "code",
   "execution_count": 46,
   "id": "8da27e5f",
   "metadata": {},
   "outputs": [
    {
     "data": {
      "image/png": "[encoded data removed]",
      "text/plain": [
       "<Figure size 432x288 with 1 Axes>"
      ]
     },
     "metadata": {
      "needs_background": "light"
     },
     "output_type": "display_data"
    }
   ],
   "source": [
    "# verification_status: surprisingly, verified loans default more t\n",
    "plot_cat('verification_status')"
   ]
  },
  {
   "cell_type": "code",
   "execution_count": 48,
   "id": "71a477fe",
   "metadata": {},
   "outputs": [
    {
     "data": {
      "image/png": "[encoded data removed]",
      "text/plain": [
       "<Figure size 1152x432 with 1 Axes>"
      ]
     },
     "metadata": {
      "needs_background": "light"
     },
     "output_type": "display_data"
    }
   ],
   "source": [
    "# purpose: small business loans defualt the most, then renewable energy and education\n",
    "plt.figure(figsize=(16,6))\n",
    "plot_cat('purpose')"
   ]
  },
  {
   "cell_type": "code",
   "execution_count": 49,
   "id": "3d9282cf",
   "metadata": {},
   "outputs": [
    {
     "data": {
      "text/plain": [
       "0    Dec-11\n",
       "1    Dec-11\n",
       "2    Dec-11\n",
       "3    Dec-11\n",
       "4    Dec-11\n",
       "Name: issue_d, dtype: object"
      ]
     },
     "execution_count": 49,
     "metadata": {},
     "output_type": "execute_result"
    }
   ],
   "source": [
    "# let's also observe the distribution of loans across years\n",
    "# first lets convert the year column into datetime and then extract year and month from it\n",
    "loan['issue_d'].head()"
   ]
  },
  {
   "cell_type": "code",
   "execution_count": 51,
   "id": "6af1dd24",
   "metadata": {},
   "outputs": [
    {
     "name": "stderr",
     "output_type": "stream",
     "text": [
      "C:\\Users\\Mihir\\AppData\\Local\\Temp\\ipykernel_17020\\1422917590.py:2: SettingWithCopyWarning: \n",
      "A value is trying to be set on a copy of a slice from a DataFrame.\n",
      "Try using .loc[row_indexer,col_indexer] = value instead\n",
      "\n",
      "See the caveats in the documentation: https://pandas.pydata.org/pandas-docs/stable/user_guide/indexing.html#returning-a-view-versus-a-copy\n",
      "  loan1['issue_d'] = loan1['issue_d'].apply(lambda x: datetime.strptime(x,'%b-%y'))\n"
     ]
    }
   ],
   "source": [
    "from datetime import datetime\n",
    "loan1['issue_d'] = loan1['issue_d'].apply(lambda x: datetime.strptime(x,'%b-%y'))"
   ]
  },
  {
   "cell_type": "code",
   "execution_count": 52,
   "id": "e718d127",
   "metadata": {},
   "outputs": [
    {
     "name": "stderr",
     "output_type": "stream",
     "text": [
      "C:\\Users\\Mihir\\AppData\\Local\\Temp\\ipykernel_17020\\2046340594.py:2: SettingWithCopyWarning: \n",
      "A value is trying to be set on a copy of a slice from a DataFrame.\n",
      "Try using .loc[row_indexer,col_indexer] = value instead\n",
      "\n",
      "See the caveats in the documentation: https://pandas.pydata.org/pandas-docs/stable/user_guide/indexing.html#returning-a-view-versus-a-copy\n",
      "  loan1['month'] = loan1['issue_d'].apply(lambda x: x.month)\n",
      "C:\\Users\\Mihir\\AppData\\Local\\Temp\\ipykernel_17020\\2046340594.py:3: SettingWithCopyWarning: \n",
      "A value is trying to be set on a copy of a slice from a DataFrame.\n",
      "Try using .loc[row_indexer,col_indexer] = value instead\n",
      "\n",
      "See the caveats in the documentation: https://pandas.pydata.org/pandas-docs/stable/user_guide/indexing.html#returning-a-view-versus-a-copy\n",
      "  loan1['year'] = loan1['issue_d'].apply(lambda x: x.year)\n"
     ]
    }
   ],
   "source": [
    "#extracting mont and year from issue date\n",
    "loan1['month'] = loan1['issue_d'].apply(lambda x: x.month)\n",
    "loan1['year'] = loan1['issue_d'].apply(lambda x: x.year)"
   ]
  },
  {
   "cell_type": "code",
   "execution_count": 53,
   "id": "96eeb0dc",
   "metadata": {},
   "outputs": [
    {
     "data": {
      "text/plain": [
       "year\n",
       "2007      251\n",
       "2008     1562\n",
       "2009     4716\n",
       "2010    11214\n",
       "2011    19801\n",
       "Name: year, dtype: int64"
      ]
     },
     "execution_count": 53,
     "metadata": {},
     "output_type": "execute_result"
    }
   ],
   "source": [
    "# let's first observe the number of loans granted across years\n",
    "loan1.groupby('year').year.count()"
   ]
  },
  {
   "cell_type": "code",
   "execution_count": 54,
   "id": "3ea73730",
   "metadata": {},
   "outputs": [
    {
     "data": {
      "text/plain": [
       "month\n",
       "1     2331\n",
       "2     2278\n",
       "3     2632\n",
       "4     2756\n",
       "5     2838\n",
       "6     3094\n",
       "7     3253\n",
       "8     3321\n",
       "9     3394\n",
       "10    3637\n",
       "11    3890\n",
       "12    4120\n",
       "Name: month, dtype: int64"
      ]
     },
     "execution_count": 54,
     "metadata": {},
     "output_type": "execute_result"
    }
   ],
   "source": [
    "# number of loans across months\n",
    "loan1.groupby('month').month.count()\n",
    "#Most loans are granted in December, and in general in the \n",
    "#latter half of the year"
   ]
  },
  {
   "cell_type": "code",
   "execution_count": 55,
   "id": "d840265e",
   "metadata": {},
   "outputs": [
    {
     "data": {
      "image/png": "[encoded data removed]",
      "text/plain": [
       "<Figure size 432x288 with 1 Axes>"
      ]
     },
     "metadata": {
      "needs_background": "light"
     },
     "output_type": "display_data"
    }
   ],
   "source": [
    "# lets compare the default rates across years\n",
    "# the default rate had suddenly increased in 2011, inspite of reducing from 2008 till 2010\n",
    "plot_cat('year')"
   ]
  },
  {
   "cell_type": "code",
   "execution_count": 56,
   "id": "d67dd3eb",
   "metadata": {},
   "outputs": [
    {
     "data": {
      "image/png": "[encoded data removed]",
      "text/plain": [
       "<Figure size 1152x432 with 1 Axes>"
      ]
     },
     "metadata": {
      "needs_background": "light"
     },
     "output_type": "display_data"
    }
   ],
   "source": [
    "# comparing default rates across months: not much variation acros\n",
    "plt.figure(figsize = (16,6))\n",
    "plot_cat('month')"
   ]
  },
  {
   "cell_type": "code",
   "execution_count": 58,
   "id": "53380af8",
   "metadata": {},
   "outputs": [
    {
     "name": "stderr",
     "output_type": "stream",
     "text": [
      "C:\\Users\\Mihir\\anaconda3\\lib\\site-packages\\seaborn\\distributions.py:2619: FutureWarning: `distplot` is a deprecated function and will be removed in a future version. Please adapt your code to use either `displot` (a figure-level function with similar flexibility) or `histplot` (an axes-level function for histograms).\n",
      "  warnings.warn(msg, FutureWarning)\n"
     ]
    },
    {
     "data": {
      "image/png": "[encoded data removed]",
      "text/plain": [
       "<Figure size 432x288 with 1 Axes>"
      ]
     },
     "metadata": {
      "needs_background": "light"
     },
     "output_type": "display_data"
    }
   ],
   "source": [
    "#Loan amount: the median loan amount is around 10,000\n",
    "sns.distplot(loan1['loan_amnt'])\n",
    "plt.show()"
   ]
  },
  {
   "cell_type": "markdown",
   "id": "729da6be",
   "metadata": {},
   "source": [
    "##### The easiest way to analyse how default rates vary across continous variables is to bin the variables into discrete categories.\n",
    "\n",
    "##### Let's bin the loan amount variable into small, medium, high, very high. "
   ]
  },
  {
   "cell_type": "code",
   "execution_count": 59,
   "id": "da24ff47",
   "metadata": {},
   "outputs": [
    {
     "name": "stderr",
     "output_type": "stream",
     "text": [
      "C:\\Users\\Mihir\\AppData\\Local\\Temp\\ipykernel_17020\\3610727214.py:12: SettingWithCopyWarning: \n",
      "A value is trying to be set on a copy of a slice from a DataFrame.\n",
      "Try using .loc[row_indexer,col_indexer] = value instead\n",
      "\n",
      "See the caveats in the documentation: https://pandas.pydata.org/pandas-docs/stable/user_guide/indexing.html#returning-a-view-versus-a-copy\n",
      "  loan1['loan_amnt'] = loan1['loan_amnt'].apply(lambda x: loan_amount(x))\n"
     ]
    }
   ],
   "source": [
    "# binning loan amount\n",
    "def loan_amount(n):\n",
    "    if n < 5000:\n",
    "        return 'low'\n",
    "    elif n >=5000 and n < 15000:\n",
    "        return 'medium'\n",
    "    elif n >= 15000 and n < 25000:\n",
    "        return 'high'\n",
    "    else:\n",
    "        return 'very high'\n",
    "        \n",
    "loan1['loan_amnt'] = loan1['loan_amnt'].apply(lambda x: loan_amount(x))"
   ]
  },
  {
   "cell_type": "code",
   "execution_count": 60,
   "id": "bcfd7e7f",
   "metadata": {},
   "outputs": [
    {
     "data": {
      "text/plain": [
       "medium       20157\n",
       "high          7572\n",
       "low           7095\n",
       "very high     2720\n",
       "Name: loan_amnt, dtype: int64"
      ]
     },
     "execution_count": 60,
     "metadata": {},
     "output_type": "execute_result"
    }
   ],
   "source": [
    "loan1['loan_amnt'].value_counts()"
   ]
  },
  {
   "cell_type": "code",
   "execution_count": 61,
   "id": "058006a0",
   "metadata": {},
   "outputs": [
    {
     "data": {
      "image/png": "[encoded data removed]",
      "text/plain": [
       "<Figure size 432x288 with 1 Axes>"
      ]
     },
     "metadata": {
      "needs_background": "light"
     },
     "output_type": "display_data"
    }
   ],
   "source": [
    "# let's compare the default rates across loan amount type\n",
    "# higher the loan amount, higher the default rate\n",
    "plot_cat('loan_amnt')"
   ]
  },
  {
   "cell_type": "code",
   "execution_count": 63,
   "id": "f37d7b44",
   "metadata": {},
   "outputs": [
    {
     "name": "stderr",
     "output_type": "stream",
     "text": [
      "C:\\Users\\Mihir\\AppData\\Local\\Temp\\ipykernel_17020\\1138112246.py:2: SettingWithCopyWarning: \n",
      "A value is trying to be set on a copy of a slice from a DataFrame.\n",
      "Try using .loc[row_indexer,col_indexer] = value instead\n",
      "\n",
      "See the caveats in the documentation: https://pandas.pydata.org/pandas-docs/stable/user_guide/indexing.html#returning-a-view-versus-a-copy\n",
      "  loan1['funded_amnt_inv'] = loan1['funded_amnt_inv'].apply(lambda x: loan_amount(x))\n"
     ]
    }
   ],
   "source": [
    "# let's also convert funded amount invested to bins\n",
    "loan1['funded_amnt_inv'] = loan1['funded_amnt_inv'].apply(lambda x: loan_amount(x))"
   ]
  },
  {
   "cell_type": "code",
   "execution_count": 64,
   "id": "1b62be9b",
   "metadata": {},
   "outputs": [
    {
     "data": {
      "image/png": "[encoded data removed]",
      "text/plain": [
       "<Figure size 432x288 with 1 Axes>"
      ]
     },
     "metadata": {
      "needs_background": "light"
     },
     "output_type": "display_data"
    }
   ],
   "source": [
    "#funded_amount invested\n",
    "plot_cat('funded_amnt_inv')"
   ]
  },
  {
   "cell_type": "code",
   "execution_count": 71,
   "id": "22e39c55",
   "metadata": {},
   "outputs": [
    {
     "ename": "TypeError",
     "evalue": "'<=' not supported between instances of 'str' and 'int'",
     "output_type": "error",
     "traceback": [
      "\u001b[1;31m---------------------------------------------------------------------------\u001b[0m",
      "\u001b[1;31mTypeError\u001b[0m                                 Traceback (most recent call last)",
      "Input \u001b[1;32mIn [71]\u001b[0m, in \u001b[0;36m<cell line: 12>\u001b[1;34m()\u001b[0m\n\u001b[0;32m      8\u001b[0m     \u001b[38;5;28;01melse\u001b[39;00m:\n\u001b[0;32m      9\u001b[0m         \u001b[38;5;28;01mreturn\u001b[39;00m \u001b[38;5;124m'\u001b[39m\u001b[38;5;124mhigh\u001b[39m\u001b[38;5;124m'\u001b[39m\n\u001b[1;32m---> 12\u001b[0m loan1[\u001b[38;5;124m'\u001b[39m\u001b[38;5;124mint_rate\u001b[39m\u001b[38;5;124m'\u001b[39m] \u001b[38;5;241m=\u001b[39m \u001b[43mloan1\u001b[49m\u001b[43m[\u001b[49m\u001b[38;5;124;43m'\u001b[39;49m\u001b[38;5;124;43mint_rate\u001b[39;49m\u001b[38;5;124;43m'\u001b[39;49m\u001b[43m]\u001b[49m\u001b[38;5;241;43m.\u001b[39;49m\u001b[43mapply\u001b[49m\u001b[43m(\u001b[49m\u001b[38;5;28;43;01mlambda\u001b[39;49;00m\u001b[43m \u001b[49m\u001b[43mx\u001b[49m\u001b[43m:\u001b[49m\u001b[43m \u001b[49m\u001b[43mint_rate\u001b[49m\u001b[43m(\u001b[49m\u001b[43mx\u001b[49m\u001b[43m)\u001b[49m\u001b[43m)\u001b[49m\n",
      "File \u001b[1;32m~\\anaconda3\\lib\\site-packages\\pandas\\core\\series.py:4433\u001b[0m, in \u001b[0;36mSeries.apply\u001b[1;34m(self, func, convert_dtype, args, **kwargs)\u001b[0m\n\u001b[0;32m   4323\u001b[0m \u001b[38;5;28;01mdef\u001b[39;00m \u001b[38;5;21mapply\u001b[39m(\n\u001b[0;32m   4324\u001b[0m     \u001b[38;5;28mself\u001b[39m,\n\u001b[0;32m   4325\u001b[0m     func: AggFuncType,\n\u001b[1;32m   (...)\u001b[0m\n\u001b[0;32m   4328\u001b[0m     \u001b[38;5;241m*\u001b[39m\u001b[38;5;241m*\u001b[39mkwargs,\n\u001b[0;32m   4329\u001b[0m ) \u001b[38;5;241m-\u001b[39m\u001b[38;5;241m>\u001b[39m DataFrame \u001b[38;5;241m|\u001b[39m Series:\n\u001b[0;32m   4330\u001b[0m     \u001b[38;5;124;03m\"\"\"\u001b[39;00m\n\u001b[0;32m   4331\u001b[0m \u001b[38;5;124;03m    Invoke function on values of Series.\u001b[39;00m\n\u001b[0;32m   4332\u001b[0m \n\u001b[1;32m   (...)\u001b[0m\n\u001b[0;32m   4431\u001b[0m \u001b[38;5;124;03m    dtype: float64\u001b[39;00m\n\u001b[0;32m   4432\u001b[0m \u001b[38;5;124;03m    \"\"\"\u001b[39;00m\n\u001b[1;32m-> 4433\u001b[0m     \u001b[38;5;28;01mreturn\u001b[39;00m \u001b[43mSeriesApply\u001b[49m\u001b[43m(\u001b[49m\u001b[38;5;28;43mself\u001b[39;49m\u001b[43m,\u001b[49m\u001b[43m \u001b[49m\u001b[43mfunc\u001b[49m\u001b[43m,\u001b[49m\u001b[43m \u001b[49m\u001b[43mconvert_dtype\u001b[49m\u001b[43m,\u001b[49m\u001b[43m \u001b[49m\u001b[43margs\u001b[49m\u001b[43m,\u001b[49m\u001b[43m \u001b[49m\u001b[43mkwargs\u001b[49m\u001b[43m)\u001b[49m\u001b[38;5;241;43m.\u001b[39;49m\u001b[43mapply\u001b[49m\u001b[43m(\u001b[49m\u001b[43m)\u001b[49m\n",
      "File \u001b[1;32m~\\anaconda3\\lib\\site-packages\\pandas\\core\\apply.py:1082\u001b[0m, in \u001b[0;36mSeriesApply.apply\u001b[1;34m(self)\u001b[0m\n\u001b[0;32m   1078\u001b[0m \u001b[38;5;28;01mif\u001b[39;00m \u001b[38;5;28misinstance\u001b[39m(\u001b[38;5;28mself\u001b[39m\u001b[38;5;241m.\u001b[39mf, \u001b[38;5;28mstr\u001b[39m):\n\u001b[0;32m   1079\u001b[0m     \u001b[38;5;66;03m# if we are a string, try to dispatch\u001b[39;00m\n\u001b[0;32m   1080\u001b[0m     \u001b[38;5;28;01mreturn\u001b[39;00m \u001b[38;5;28mself\u001b[39m\u001b[38;5;241m.\u001b[39mapply_str()\n\u001b[1;32m-> 1082\u001b[0m \u001b[38;5;28;01mreturn\u001b[39;00m \u001b[38;5;28;43mself\u001b[39;49m\u001b[38;5;241;43m.\u001b[39;49m\u001b[43mapply_standard\u001b[49m\u001b[43m(\u001b[49m\u001b[43m)\u001b[49m\n",
      "File \u001b[1;32m~\\anaconda3\\lib\\site-packages\\pandas\\core\\apply.py:1137\u001b[0m, in \u001b[0;36mSeriesApply.apply_standard\u001b[1;34m(self)\u001b[0m\n\u001b[0;32m   1131\u001b[0m         values \u001b[38;5;241m=\u001b[39m obj\u001b[38;5;241m.\u001b[39mastype(\u001b[38;5;28mobject\u001b[39m)\u001b[38;5;241m.\u001b[39m_values\n\u001b[0;32m   1132\u001b[0m         \u001b[38;5;66;03m# error: Argument 2 to \"map_infer\" has incompatible type\u001b[39;00m\n\u001b[0;32m   1133\u001b[0m         \u001b[38;5;66;03m# \"Union[Callable[..., Any], str, List[Union[Callable[..., Any], str]],\u001b[39;00m\n\u001b[0;32m   1134\u001b[0m         \u001b[38;5;66;03m# Dict[Hashable, Union[Union[Callable[..., Any], str],\u001b[39;00m\n\u001b[0;32m   1135\u001b[0m         \u001b[38;5;66;03m# List[Union[Callable[..., Any], str]]]]]\"; expected\u001b[39;00m\n\u001b[0;32m   1136\u001b[0m         \u001b[38;5;66;03m# \"Callable[[Any], Any]\"\u001b[39;00m\n\u001b[1;32m-> 1137\u001b[0m         mapped \u001b[38;5;241m=\u001b[39m \u001b[43mlib\u001b[49m\u001b[38;5;241;43m.\u001b[39;49m\u001b[43mmap_infer\u001b[49m\u001b[43m(\u001b[49m\n\u001b[0;32m   1138\u001b[0m \u001b[43m            \u001b[49m\u001b[43mvalues\u001b[49m\u001b[43m,\u001b[49m\n\u001b[0;32m   1139\u001b[0m \u001b[43m            \u001b[49m\u001b[43mf\u001b[49m\u001b[43m,\u001b[49m\u001b[43m  \u001b[49m\u001b[38;5;66;43;03m# type: ignore[arg-type]\u001b[39;49;00m\n\u001b[0;32m   1140\u001b[0m \u001b[43m            \u001b[49m\u001b[43mconvert\u001b[49m\u001b[38;5;241;43m=\u001b[39;49m\u001b[38;5;28;43mself\u001b[39;49m\u001b[38;5;241;43m.\u001b[39;49m\u001b[43mconvert_dtype\u001b[49m\u001b[43m,\u001b[49m\n\u001b[0;32m   1141\u001b[0m \u001b[43m        \u001b[49m\u001b[43m)\u001b[49m\n\u001b[0;32m   1143\u001b[0m \u001b[38;5;28;01mif\u001b[39;00m \u001b[38;5;28mlen\u001b[39m(mapped) \u001b[38;5;129;01mand\u001b[39;00m \u001b[38;5;28misinstance\u001b[39m(mapped[\u001b[38;5;241m0\u001b[39m], ABCSeries):\n\u001b[0;32m   1144\u001b[0m     \u001b[38;5;66;03m# GH#43986 Need to do list(mapped) in order to get treated as nested\u001b[39;00m\n\u001b[0;32m   1145\u001b[0m     \u001b[38;5;66;03m#  See also GH#25959 regarding EA support\u001b[39;00m\n\u001b[0;32m   1146\u001b[0m     \u001b[38;5;28;01mreturn\u001b[39;00m obj\u001b[38;5;241m.\u001b[39m_constructor_expanddim(\u001b[38;5;28mlist\u001b[39m(mapped), index\u001b[38;5;241m=\u001b[39mobj\u001b[38;5;241m.\u001b[39mindex)\n",
      "File \u001b[1;32m~\\anaconda3\\lib\\site-packages\\pandas\\_libs\\lib.pyx:2870\u001b[0m, in \u001b[0;36mpandas._libs.lib.map_infer\u001b[1;34m()\u001b[0m\n",
      "Input \u001b[1;32mIn [71]\u001b[0m, in \u001b[0;36m<lambda>\u001b[1;34m(x)\u001b[0m\n\u001b[0;32m      8\u001b[0m     \u001b[38;5;28;01melse\u001b[39;00m:\n\u001b[0;32m      9\u001b[0m         \u001b[38;5;28;01mreturn\u001b[39;00m \u001b[38;5;124m'\u001b[39m\u001b[38;5;124mhigh\u001b[39m\u001b[38;5;124m'\u001b[39m\n\u001b[1;32m---> 12\u001b[0m loan1[\u001b[38;5;124m'\u001b[39m\u001b[38;5;124mint_rate\u001b[39m\u001b[38;5;124m'\u001b[39m] \u001b[38;5;241m=\u001b[39m loan1[\u001b[38;5;124m'\u001b[39m\u001b[38;5;124mint_rate\u001b[39m\u001b[38;5;124m'\u001b[39m]\u001b[38;5;241m.\u001b[39mapply(\u001b[38;5;28;01mlambda\u001b[39;00m x: \u001b[43mint_rate\u001b[49m\u001b[43m(\u001b[49m\u001b[43mx\u001b[49m\u001b[43m)\u001b[49m)\n",
      "Input \u001b[1;32mIn [71]\u001b[0m, in \u001b[0;36mint_rate\u001b[1;34m(n)\u001b[0m\n\u001b[0;32m      3\u001b[0m \u001b[38;5;28;01mdef\u001b[39;00m \u001b[38;5;21mint_rate\u001b[39m(n):\n\u001b[1;32m----> 4\u001b[0m     \u001b[38;5;28;01mif\u001b[39;00m \u001b[43mn\u001b[49m\u001b[43m \u001b[49m\u001b[38;5;241;43m<\u001b[39;49m\u001b[38;5;241;43m=\u001b[39;49m\u001b[43m \u001b[49m\u001b[38;5;241;43m10\u001b[39;49m:\n\u001b[0;32m      5\u001b[0m         \u001b[38;5;28;01mreturn\u001b[39;00m \u001b[38;5;124m'\u001b[39m\u001b[38;5;124mlow\u001b[39m\u001b[38;5;124m'\u001b[39m\n\u001b[0;32m      6\u001b[0m     \u001b[38;5;28;01melif\u001b[39;00m n \u001b[38;5;241m>\u001b[39m \u001b[38;5;241m10\u001b[39m \u001b[38;5;129;01mand\u001b[39;00m n \u001b[38;5;241m<\u001b[39m\u001b[38;5;241m=\u001b[39m\u001b[38;5;241m15\u001b[39m:\n",
      "\u001b[1;31mTypeError\u001b[0m: '<=' not supported between instances of 'str' and 'int'"
     ]
    }
   ],
   "source": [
    "# lets also convert interest rate to low, medium, high\n",
    "# binning loan amount\n",
    "def int_rate(n):\n",
    "    if n <= 10:\n",
    "        return 'low'\n",
    "    elif n > 10 and n <=15:\n",
    "        return 'medium'\n",
    "    else:\n",
    "        return 'high'\n",
    "    \n",
    "    \n",
    "loan1['int_rate'] = loan1['int_rate'].apply(lambda x: int_rate(x))"
   ]
  },
  {
   "cell_type": "code",
   "execution_count": null,
   "id": "fac94b15",
   "metadata": {},
   "outputs": [],
   "source": [
    "# comparing default rates across rates of interest\n",
    "# high interest rates default more, as expected \n",
    "plot_cat('int_rate')\n"
   ]
  },
  {
   "cell_type": "code",
   "execution_count": 73,
   "id": "b53f9529",
   "metadata": {},
   "outputs": [
    {
     "name": "stderr",
     "output_type": "stream",
     "text": [
      "C:\\Users\\Mihir\\AppData\\Local\\Temp\\ipykernel_17020\\2291066615.py:11: SettingWithCopyWarning: \n",
      "A value is trying to be set on a copy of a slice from a DataFrame.\n",
      "Try using .loc[row_indexer,col_indexer] = value instead\n",
      "\n",
      "See the caveats in the documentation: https://pandas.pydata.org/pandas-docs/stable/user_guide/indexing.html#returning-a-view-versus-a-copy\n",
      "  loan1['dti'] = loan1['dti'].apply(lambda x: dti(x))\n"
     ]
    }
   ],
   "source": [
    "# debt to income ratio\n",
    "def dti(n):\n",
    "    if n <= 10:\n",
    "        return 'low'\n",
    "    elif n > 10 and n <=20:\n",
    "        return 'medium'\n",
    "    else:\n",
    "        return 'high'\n",
    "    \n",
    "\n",
    "loan1['dti'] = loan1['dti'].apply(lambda x: dti(x))"
   ]
  },
  {
   "cell_type": "code",
   "execution_count": 74,
   "id": "84968ec0",
   "metadata": {},
   "outputs": [
    {
     "data": {
      "image/png": "[encoded data removed]",
      "text/plain": [
       "<Figure size 432x288 with 1 Axes>"
      ]
     },
     "metadata": {
      "needs_background": "light"
     },
     "output_type": "display_data"
    }
   ],
   "source": [
    "# comparing default rates across debt to income ratio\n",
    "# high dti translates into higher default rates, as expected\n",
    "plot_cat('dti')"
   ]
  },
  {
   "cell_type": "code",
   "execution_count": 76,
   "id": "eefce11e",
   "metadata": {},
   "outputs": [
    {
     "name": "stderr",
     "output_type": "stream",
     "text": [
      "C:\\Users\\Mihir\\AppData\\Local\\Temp\\ipykernel_17020\\884429694.py:10: SettingWithCopyWarning: \n",
      "A value is trying to be set on a copy of a slice from a DataFrame.\n",
      "Try using .loc[row_indexer,col_indexer] = value instead\n",
      "\n",
      "See the caveats in the documentation: https://pandas.pydata.org/pandas-docs/stable/user_guide/indexing.html#returning-a-view-versus-a-copy\n",
      "  loan1['funded_amnt'] = loan1['funded_amnt'].apply(lambda x: funded_amount(x))\n"
     ]
    }
   ],
   "source": [
    "# funded amount\n",
    "def funded_amount(n):\n",
    "    if n <= 5000:\n",
    "        return 'low'\n",
    "    elif n > 5000 and n <=15000:\n",
    "        return 'medium'\n",
    "    else:\n",
    "        return 'high'\n",
    "    \n",
    "loan1['funded_amnt'] = loan1['funded_amnt'].apply(lambda x: funded_amount(x))"
   ]
  },
  {
   "cell_type": "code",
   "execution_count": 77,
   "id": "7b6bb3a7",
   "metadata": {},
   "outputs": [
    {
     "data": {
      "image/png": "[encoded data removed]",
      "text/plain": [
       "<Figure size 432x288 with 1 Axes>"
      ]
     },
     "metadata": {
      "needs_background": "light"
     },
     "output_type": "display_data"
    }
   ],
   "source": [
    "plot_cat('funded_amnt')"
   ]
  },
  {
   "cell_type": "code",
   "execution_count": 79,
   "id": "b5921752",
   "metadata": {},
   "outputs": [
    {
     "name": "stderr",
     "output_type": "stream",
     "text": [
      "C:\\Users\\Mihir\\AppData\\Local\\Temp\\ipykernel_17020\\308784005.py:12: SettingWithCopyWarning: \n",
      "A value is trying to be set on a copy of a slice from a DataFrame.\n",
      "Try using .loc[row_indexer,col_indexer] = value instead\n",
      "\n",
      "See the caveats in the documentation: https://pandas.pydata.org/pandas-docs/stable/user_guide/indexing.html#returning-a-view-versus-a-copy\n",
      "  loan1['installment'] = loan1['installment'].apply(lambda x: installment(x))\n"
     ]
    }
   ],
   "source": [
    "# installment\n",
    "def installment(n):\n",
    "    if n <= 200:\n",
    "        return 'low'\n",
    "    elif n > 200 and n <=400:\n",
    "        return 'medium'\n",
    "    elif n > 400 and n <=600:\n",
    "        return 'high'\n",
    "    else:\n",
    "        return 'very high'\n",
    "    \n",
    "loan1['installment'] = loan1['installment'].apply(lambda x: installment(x))"
   ]
  },
  {
   "cell_type": "code",
   "execution_count": 80,
   "id": "12b8c2b5",
   "metadata": {},
   "outputs": [
    {
     "data": {
      "image/png": "[encoded data removed]",
      "text/plain": [
       "<Figure size 432x288 with 1 Axes>"
      ]
     },
     "metadata": {
      "needs_background": "light"
     },
     "output_type": "display_data"
    }
   ],
   "source": [
    "# comparing default rates across installment\n",
    "# the higher the installment amount, the higher the default rate\n",
    "plot_cat('installment')"
   ]
  },
  {
   "cell_type": "code",
   "execution_count": 82,
   "id": "102a5bf9",
   "metadata": {},
   "outputs": [
    {
     "name": "stderr",
     "output_type": "stream",
     "text": [
      "C:\\Users\\Mihir\\AppData\\Local\\Temp\\ipykernel_17020\\2774081703.py:12: SettingWithCopyWarning: \n",
      "A value is trying to be set on a copy of a slice from a DataFrame.\n",
      "Try using .loc[row_indexer,col_indexer] = value instead\n",
      "\n",
      "See the caveats in the documentation: https://pandas.pydata.org/pandas-docs/stable/user_guide/indexing.html#returning-a-view-versus-a-copy\n",
      "  loan1['annual_inc'] = loan1['annual_inc'].apply(lambda x: annual_income(x))\n"
     ]
    }
   ],
   "source": [
    "# annual income\n",
    "def annual_income(n):\n",
    "    if n <= 50000:\n",
    "        return 'low'\n",
    "    elif n > 50000 and n <=100000:\n",
    "        return 'medium'\n",
    "    elif n > 100000 and n <=150000:\n",
    "        return 'high'\n",
    "    else:\n",
    "        return 'very high'\n",
    "\n",
    "loan1['annual_inc'] = loan1['annual_inc'].apply(lambda x: annual_income(x))"
   ]
  },
  {
   "cell_type": "code",
   "execution_count": 83,
   "id": "b6dee59e",
   "metadata": {},
   "outputs": [
    {
     "data": {
      "image/png": "[encoded data removed]",
      "text/plain": [
       "<Figure size 432x288 with 1 Axes>"
      ]
     },
     "metadata": {
      "needs_background": "light"
     },
     "output_type": "display_data"
    }
   ],
   "source": [
    "# annual income and default rate\n",
    "# lower the annual income, higher the default rate\n",
    "plot_cat('annual_inc')"
   ]
  },
  {
   "cell_type": "code",
   "execution_count": 87,
   "id": "75f3bca8",
   "metadata": {},
   "outputs": [],
   "source": [
    "# employment length\n",
    "# first, let's drop the missing value observations in emp length\n",
    "loan1 = loan1[~loan1['emp_length'].isnull()]\n",
    "\n",
    "# binning the variable\n",
    "def emp_length(n):\n",
    "    if n <= 1:\n",
    "        return 'fresher'\n",
    "    elif n > 1 and n <=3:\n",
    "        return 'junior'\n",
    "    elif n > 3 and n <=7:\n",
    "        return 'senior'\n",
    "    else:\n",
    "        return 'expert'\n",
    "\n",
    "loan1['emp_length'] = loan1['emp_length'].apply(lambda x: emp_length(x))"
   ]
  },
  {
   "cell_type": "code",
   "execution_count": 88,
   "id": "1a8b9bb4",
   "metadata": {},
   "outputs": [
    {
     "data": {
      "image/png": "[encoded data removed]",
      "text/plain": [
       "<Figure size 432x288 with 1 Axes>"
      ]
     },
     "metadata": {
      "needs_background": "light"
     },
     "output_type": "display_data"
    }
   ],
   "source": [
    "# emp_length and default rate\n",
    "# not much of a predictor of default\n",
    "plot_cat('emp_length')"
   ]
  },
  {
   "cell_type": "markdown",
   "id": "4656b0d8",
   "metadata": {},
   "source": [
    "### Segmented Univariate Analysis"
   ]
  },
  {
   "cell_type": "markdown",
   "id": "e7786dcd",
   "metadata": {},
   "source": [
    "##### In the credit industry, one of the most important factors affecting default is the purpose of the loan - home loans perform differently than credit cards, credit cards are very different from debt condolidation loans etc.\n",
    "\n",
    "###### This comes from business understanding, though let's again have a look at the default rates across the purpose of the loan."
   ]
  },
  {
   "cell_type": "code",
   "execution_count": 89,
   "id": "afb0e7e8",
   "metadata": {},
   "outputs": [
    {
     "data": {
      "image/png": "[encoded data removed]",
      "text/plain": [
       "<Figure size 1152x432 with 1 Axes>"
      ]
     },
     "metadata": {
      "needs_background": "light"
     },
     "output_type": "display_data"
    }
   ],
   "source": [
    "# purpose: small business loans defualt the most, then renewable energy and education\n",
    "plt.figure(figsize=(16, 6))\n",
    "plot_cat('purpose')"
   ]
  },
  {
   "cell_type": "code",
   "execution_count": 91,
   "id": "26cf0960",
   "metadata": {
    "scrolled": true
   },
   "outputs": [
    {
     "data": {
      "image/png": "[encoded data removed]",
      "text/plain": [
       "<Figure size 1152x432 with 1 Axes>"
      ]
     },
     "metadata": {
      "needs_background": "light"
     },
     "output_type": "display_data"
    }
   ],
   "source": [
    "# lets first look at the number of loans for each type (purpose) of the loan\n",
    "# most loans are debt consolidation (to repay otehr debts), then credit card, major purchase etc.\n",
    "plt.figure(figsize=(16, 6))\n",
    "sns.countplot(x='purpose', data=loan1)\n",
    "plt.show()"
   ]
  },
  {
   "cell_type": "code",
   "execution_count": 92,
   "id": "4d6f2594",
   "metadata": {},
   "outputs": [
    {
     "data": {
      "text/plain": [
       "debt_consolidation    17675\n",
       "credit_card            4899\n",
       "home_improvement       2785\n",
       "major_purchase         2080\n",
       "Name: purpose, dtype: int64"
      ]
     },
     "execution_count": 92,
     "metadata": {},
     "output_type": "execute_result"
    }
   ],
   "source": [
    "# filtering the df for the 4 types of loans of top \n",
    "main_purposes = [\"credit_card\",\"debt_consolidation\",\"home_improvement\",\"major_purchase\"]\n",
    "loan1 = loan1[loan1['purpose'].isin(main_purposes)]\n",
    "loan1['purpose'].value_counts()"
   ]
  },
  {
   "cell_type": "code",
   "execution_count": 94,
   "id": "17d9e8ec",
   "metadata": {},
   "outputs": [
    {
     "data": {
      "image/png": "[encoded data removed]",
      "text/plain": [
       "<Figure size 432x288 with 1 Axes>"
      ]
     },
     "metadata": {
      "needs_background": "light"
     },
     "output_type": "display_data"
    }
   ],
   "source": [
    "# plotting number of loans by purpose \n",
    "sns.countplot(x=loan1['purpose'])\n",
    "plt.show()"
   ]
  },
  {
   "cell_type": "code",
   "execution_count": 96,
   "id": "0a95437d",
   "metadata": {},
   "outputs": [
    {
     "data": {
      "image/png": "[encoded data removed]",
      "text/plain": [
       "<Figure size 720x432 with 1 Axes>"
      ]
     },
     "metadata": {
      "needs_background": "light"
     },
     "output_type": "display_data"
    }
   ],
   "source": [
    "# let's now compare the default rates across two types of categorical variables\n",
    "# purpose of loan (constant) and another categorical variable (which changes)\n",
    "\n",
    "plt.figure(figsize=[10, 6])\n",
    "sns.barplot(x='term', y=\"loan_status\", hue='purpose', data=loan1)\n",
    "plt.show()\n"
   ]
  },
  {
   "cell_type": "code",
   "execution_count": 97,
   "id": "d95d1026",
   "metadata": {},
   "outputs": [
    {
     "data": {
      "image/png": "[encoded data removed]",
      "text/plain": [
       "<Figure size 720x432 with 1 Axes>"
      ]
     },
     "metadata": {
      "needs_background": "light"
     },
     "output_type": "display_data"
    }
   ],
   "source": [
    "# lets write a function which takes a categorical variable and plots the default rate\n",
    "# segmented by purpose \n",
    "\n",
    "def plot_segmented(cat_var):\n",
    "    plt.figure(figsize=(10, 6))\n",
    "    sns.barplot(x=cat_var, y='loan_status', hue='purpose', data=loan1)\n",
    "    plt.show()\n",
    "\n",
    "    \n",
    "plot_segmented('term')"
   ]
  },
  {
   "cell_type": "code",
   "execution_count": 98,
   "id": "5a002e6b",
   "metadata": {},
   "outputs": [
    {
     "data": {
      "image/png": "[encoded data removed]",
      "text/plain": [
       "<Figure size 720x432 with 1 Axes>"
      ]
     },
     "metadata": {
      "needs_background": "light"
     },
     "output_type": "display_data"
    }
   ],
   "source": [
    "# grade of loan\n",
    "plot_segmented('grade')"
   ]
  },
  {
   "cell_type": "code",
   "execution_count": 99,
   "id": "7004c46c",
   "metadata": {},
   "outputs": [
    {
     "data": {
      "image/png": "[encoded data removed]",
      "text/plain": [
       "<Figure size 720x432 with 1 Axes>"
      ]
     },
     "metadata": {
      "needs_background": "light"
     },
     "output_type": "display_data"
    }
   ],
   "source": [
    "plot_segmented('home_ownership')"
   ]
  },
  {
   "cell_type": "code",
   "execution_count": 100,
   "id": "0d04122b",
   "metadata": {},
   "outputs": [
    {
     "data": {
      "image/png": "[encoded data removed]",
      "text/plain": [
       "<Figure size 720x432 with 1 Axes>"
      ]
     },
     "metadata": {
      "needs_background": "light"
     },
     "output_type": "display_data"
    }
   ],
   "source": [
    "# year\n",
    "plot_segmented('year')"
   ]
  },
  {
   "cell_type": "code",
   "execution_count": 101,
   "id": "24be346a",
   "metadata": {},
   "outputs": [
    {
     "data": {
      "image/png": "[encoded data removed]",
      "text/plain": [
       "<Figure size 720x432 with 1 Axes>"
      ]
     },
     "metadata": {
      "needs_background": "light"
     },
     "output_type": "display_data"
    }
   ],
   "source": [
    "# emp_length\n",
    "plot_segmented('emp_length')"
   ]
  },
  {
   "cell_type": "code",
   "execution_count": 102,
   "id": "cf2b3ff2",
   "metadata": {},
   "outputs": [
    {
     "data": {
      "image/png": "[encoded data removed]",
      "text/plain": [
       "<Figure size 720x432 with 1 Axes>"
      ]
     },
     "metadata": {
      "needs_background": "light"
     },
     "output_type": "display_data"
    }
   ],
   "source": [
    "# loan_amnt: same trend across loan purposes\n",
    "plot_segmented('loan_amnt')"
   ]
  },
  {
   "cell_type": "code",
   "execution_count": 103,
   "id": "6c8219ae",
   "metadata": {},
   "outputs": [
    {
     "data": {
      "image/png": "[encoded data removed]",
      "text/plain": [
       "<Figure size 720x432 with 1 Axes>"
      ]
     },
     "metadata": {
      "needs_background": "light"
     },
     "output_type": "display_data"
    }
   ],
   "source": [
    "# interest rate\n",
    "plot_segmented('int_rate')"
   ]
  },
  {
   "cell_type": "code",
   "execution_count": 104,
   "id": "61cc8629",
   "metadata": {},
   "outputs": [
    {
     "data": {
      "image/png": "[encoded data removed]",
      "text/plain": [
       "<Figure size 720x432 with 1 Axes>"
      ]
     },
     "metadata": {
      "needs_background": "light"
     },
     "output_type": "display_data"
    }
   ],
   "source": [
    "# installment\n",
    "plot_segmented('installment')"
   ]
  },
  {
   "cell_type": "code",
   "execution_count": 105,
   "id": "751d7bdf",
   "metadata": {},
   "outputs": [
    {
     "data": {
      "image/png": "[encoded data removed]",
      "text/plain": [
       "<Figure size 720x432 with 1 Axes>"
      ]
     },
     "metadata": {
      "needs_background": "light"
     },
     "output_type": "display_data"
    }
   ],
   "source": [
    "# debt to income ratio\n",
    "plot_segmented('dti')"
   ]
  },
  {
   "cell_type": "code",
   "execution_count": 106,
   "id": "8b55e455",
   "metadata": {},
   "outputs": [
    {
     "data": {
      "image/png": "[encoded data removed]",
      "text/plain": [
       "<Figure size 720x432 with 1 Axes>"
      ]
     },
     "metadata": {
      "needs_background": "light"
     },
     "output_type": "display_data"
    }
   ],
   "source": [
    "# annual income\n",
    "plot_segmented('annual_inc')"
   ]
  },
  {
   "cell_type": "markdown",
   "id": "b8b8c268",
   "metadata": {},
   "source": [
    "#### A good way to quantify th effect of a categorical variable on default rate is to see 'how much does the default rate vary across the categories'."
   ]
  },
  {
   "cell_type": "code",
   "execution_count": 108,
   "id": "8ded665a",
   "metadata": {},
   "outputs": [
    {
     "data": {
      "text/plain": [
       "annual_inc\n",
       "low          0.157966\n",
       "medium       0.130075\n",
       "very high    0.101570\n",
       "high         0.097749\n",
       "Name: loan_status, dtype: float64"
      ]
     },
     "execution_count": 108,
     "metadata": {},
     "output_type": "execute_result"
    }
   ],
   "source": [
    "# variation of default rate across annual_inc\n",
    "\n",
    "loan1.groupby('annual_inc').loan_status.mean().sort_values(ascending=False)"
   ]
  },
  {
   "cell_type": "code",
   "execution_count": 110,
   "id": "4264915c",
   "metadata": {},
   "outputs": [
    {
     "name": "stdout",
     "output_type": "stream",
     "text": [
      "annual_inc\n",
      "low          0.16\n",
      "medium       0.13\n",
      "very high    0.10\n",
      "high         0.10\n",
      "Name: loan_status, dtype: float64\n",
      "0.06\n"
     ]
    }
   ],
   "source": [
    "# one can write a function which takes in a categorical variable and computed the average \n",
    "# default rate across the categories\n",
    "# It can also compute the 'difference between the highest and the lowest default rate' across the \n",
    "# categories, which is a decent metric indicating the effect of the varaible on default rate\n",
    "\n",
    "def diff_rate(cat_var):\n",
    "    default_rates = loan1.groupby(cat_var).loan_status.mean().sort_values(ascending=False)\n",
    "    return (round(default_rates, 2), round(default_rates[0] - default_rates[-1], 2))\n",
    "\n",
    "default_rates, diff = diff_rate('annual_inc')\n",
    "print(default_rates) \n",
    "print(diff)"
   ]
  },
  {
   "cell_type": "code",
   "execution_count": 113,
   "id": "34c070d5",
   "metadata": {},
   "outputs": [
    {
     "name": "stdout",
     "output_type": "stream",
     "text": [
      "['member_id', 'loan_amnt', 'funded_amnt', 'funded_amnt_inv', 'term', 'int_rate', 'installment', 'grade', 'sub_grade', 'emp_title', 'emp_length', 'home_ownership', 'annual_inc', 'verification_status', 'issue_d', 'loan_status', 'pymnt_plan', 'purpose', 'dti', 'delinq_2yrs', 'earliest_cr_line', 'inq_last_6mths', 'open_acc', 'pub_rec', 'revol_bal', 'revol_util', 'total_acc', 'initial_list_status', 'out_prncp', 'out_prncp_inv', 'total_pymnt', 'total_pymnt_inv', 'total_rec_prncp', 'total_rec_int', 'total_rec_late_fee', 'recoveries', 'collection_recovery_fee', 'last_pymnt_d', 'last_pymnt_amnt', 'last_credit_pull_d', 'collections_12_mths_ex_med', 'policy_code', 'application_type', 'acc_now_delinq', 'chargeoff_within_12_mths', 'delinq_amnt', 'pub_rec_bankruptcies', 'tax_liens', 'month', 'year']\n"
     ]
    },
    {
     "name": "stderr",
     "output_type": "stream",
     "text": [
      "C:\\Users\\Mihir\\AppData\\Local\\Temp\\ipykernel_17020\\2950830130.py:3: SettingWithCopyWarning: \n",
      "A value is trying to be set on a copy of a slice from a DataFrame.\n",
      "Try using .loc[row_indexer,col_indexer] = value instead\n",
      "\n",
      "See the caveats in the documentation: https://pandas.pydata.org/pandas-docs/stable/user_guide/indexing.html#returning-a-view-versus-a-copy\n",
      "  df_categorical['loan_status'] = loan1['loan_status']\n"
     ]
    }
   ],
   "source": [
    "# filtering all the object type variables\n",
    "df_categorical = loan1.loc[:, loan1.dtypes == object]\n",
    "df_categorical['loan_status'] = loan1['loan_status']\n",
    "\n",
    "# Now, for each variable, we can compute the incremental diff in default rates\n",
    "print([i for i in loan1.columns])"
   ]
  },
  {
   "cell_type": "code",
   "execution_count": 114,
   "id": "25bc9a19",
   "metadata": {},
   "outputs": [
    {
     "name": "stdout",
     "output_type": "stream",
     "text": [
      "{'loan_amnt': 7.000000000000001, 'funded_amnt': 5.0, 'funded_amnt_inv': 6.0, 'term': 15.0, 'int_rate': 0.0, 'installment': 3.0, 'grade': 27.0, 'sub_grade': 46.0, 'emp_title': 100.0, 'emp_length': 2.0, 'home_ownership': 16.0, 'annual_inc': 6.0, 'verification_status': 4.0, 'pymnt_plan': 0.0, 'purpose': 5.0, 'dti': 5.0, 'earliest_cr_line': 100.0, 'revol_util': 100.0, 'initial_list_status': 0.0, 'last_pymnt_d': 75.0, 'last_credit_pull_d': 47.0, 'application_type': 0.0}\n"
     ]
    }
   ],
   "source": [
    "# storing the diff of default rates for each column in a dict\n",
    "d = {key: diff_rate(key)[1]*100 for key in df_categorical.columns if key != 'loan_status'}\n",
    "print(d)"
   ]
  },
  {
   "cell_type": "code",
   "execution_count": null,
   "id": "d9ffeb2e",
   "metadata": {},
   "outputs": [],
   "source": []
  }
 ],
 "metadata": {
  "kernelspec": {
   "display_name": "Python 3 (ipykernel)",
   "language": "python",
   "name": "python3"
  },
  "language_info": {
   "codemirror_mode": {
    "name": "ipython",
    "version": 3
   },
   "file_extension": ".py",
   "mimetype": "text/x-python",
   "name": "python",
   "nbconvert_exporter": "python",
   "pygments_lexer": "ipython3",
   "version": "3.9.12"
  }
 },
 "nbformat": 4,
 "nbformat_minor": 5
}
